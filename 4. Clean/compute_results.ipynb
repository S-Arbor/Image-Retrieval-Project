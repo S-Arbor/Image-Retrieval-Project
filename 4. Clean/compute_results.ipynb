{
 "cells": [
  {
   "cell_type": "markdown",
   "metadata": {},
   "source": [
    "# Compute Results of Analysis\n",
    "\n",
    "Combine SIFT, resnet, swin, vgg and vit features with basic distance analysis, query expansion and diffusion.\n",
    "\n",
    "____\n",
    "## Imports and Constants"
   ]
  },
  {
   "cell_type": "code",
   "execution_count": 30,
   "metadata": {},
   "outputs": [],
   "source": [
    "import numpy as np\n",
    "import pandas as pd\n",
    "import os\n",
    "import sklearn.metrics.pairwise\n",
    "import my_eval\n",
    "import query\n",
    "\n",
    "###########################################\n",
    "\n",
    "NOTEBOOK_DIR = \"/home/sean/Code/Pawsey/4. Clean\""
   ]
  },
  {
   "cell_type": "markdown",
   "metadata": {},
   "source": [
    "_____\n",
    "## Load Data"
   ]
  },
  {
   "cell_type": "code",
   "execution_count": 4,
   "metadata": {},
   "outputs": [
    {
     "name": "stdout",
     "output_type": "stream",
     "text": [
      "Loaded swin\n",
      "Loaded vgg\n",
      "Loaded resnet\n",
      "Loaded names\n",
      "Loaded vit\n"
     ]
    },
    {
     "data": {
      "text/plain": [
       "array([[ 0.4381919 , -1.1369115 , -0.49100572, ..., -0.27456677,\n",
       "         0.38102797, -0.30554023],\n",
       "       [-0.19804995,  0.02098738,  0.52111053, ...,  0.44540596,\n",
       "         0.8620084 ,  0.18907186],\n",
       "       [ 1.0216093 , -0.06300209, -0.06569103, ...,  0.02202551,\n",
       "        -0.32440802,  0.3858102 ],\n",
       "       ...,\n",
       "       [ 0.74518114, -0.9655011 , -0.55623275, ..., -0.39560622,\n",
       "         0.3983633 , -0.4672271 ],\n",
       "       [ 0.4493655 , -0.97439206, -0.61376625, ..., -0.19914342,\n",
       "         0.27447924, -0.3482531 ],\n",
       "       [ 0.04259995,  0.09633142,  0.65417933, ...,  0.5438953 ,\n",
       "         0.53027916,  0.03832415]], dtype=float32)"
      ]
     },
     "execution_count": 4,
     "metadata": {},
     "output_type": "execute_result"
    }
   ],
   "source": [
    "## Load features\n",
    "\n",
    "data = {}\n",
    "\n",
    "for descriptor in os.listdir(\"./data\"):\n",
    "\n",
    "    if descriptor == \"names\":\n",
    "        data[descriptor] = {\"ox\" : {}, \"par\" : {}}\n",
    "        for fname in os.listdir(\"./data/\" + descriptor):\n",
    "            split_name = fname[:-4].split(\"-\")\n",
    "            dataset = split_name[0]\n",
    "            if fname.endswith(\"y-names.npy\"):\n",
    "                data[descriptor][dataset][\"y\"] = np.load(\"./data/{}/{}\".format(descriptor, fname))\n",
    "            else:\n",
    "                difficulty = split_name[2]\n",
    "                data[descriptor][dataset][difficulty] = np.load(\"./data/{}/{}\".format(descriptor, fname))\n",
    "\n",
    "    else:\n",
    "        data[descriptor] = {\"ox\" : {\"E\" : {}, \"M\" : {}, \"H\" :{}},\n",
    "                            \"par\" : {\"E\" : {}, \"M\" : {}, \"H\" :{}}}\n",
    "        for fname in os.listdir(\"./data/\" + descriptor):\n",
    "            split_name = fname[:-4].split(\"-\")\n",
    "            if len(split_name) == 3:\n",
    "                pass\n",
    "            else:\n",
    "                (_, xy, dataset, difficulty) = split_name\n",
    "                data[descriptor][dataset][difficulty][xy] = np.load(\"./data/{}/{}\".format(descriptor, fname))\n",
    "    \n",
    "    print(\"Loaded \" + descriptor)\n",
    "\n",
    "data[\"swin\"][\"ox\"][\"E\"][\"x\"]"
   ]
  },
  {
   "cell_type": "code",
   "execution_count": 27,
   "metadata": {},
   "outputs": [],
   "source": [
    "q = data[\"swin\"][\"ox\"][\"E\"][\"y\"]\n",
    "t = data[\"swin\"][\"ox\"][\"E\"][\"x\"]\n",
    "q_n = data[\"names\"][\"ox\"][\"y\"]\n",
    "t_n = data[\"names\"][\"ox\"][\"E\"]"
   ]
  },
  {
   "cell_type": "markdown",
   "metadata": {},
   "source": [
    "_____\n",
    "## Evaluate Methods"
   ]
  },
  {
   "cell_type": "code",
   "execution_count": 24,
   "metadata": {},
   "outputs": [
    {
     "data": {
      "text/plain": [
       "array([265, 462,  78, 239, 283, 259, 442, 491, 213, 276, 216, 186, 109,\n",
       "        89,  42, 504, 296, 430, 395, 311, 473,   2,  55,   9, 278,  59,\n",
       "       154, 315, 236,  19, 187, 507,  79, 150, 329, 170, 164, 306, 116,\n",
       "       330, 160, 237, 128, 481, 240, 197, 434, 292, 417, 456, 357, 255,\n",
       "       264, 143, 231, 408, 342, 336, 122, 157, 181, 506, 402, 362, 485,\n",
       "       438,  69, 502, 453, 335,  95,  68, 378, 377,  10, 183, 431, 423,\n",
       "       131, 476,  40,  28,  18, 215, 379, 286, 155, 436, 256, 433, 121,\n",
       "       267, 439, 169,  76, 416, 429, 420, 129, 167, 250, 141, 367, 235,\n",
       "       279, 225, 258, 176,  90,  11, 410, 104, 253,  98, 112,  32, 196,\n",
       "         8, 117, 372, 271, 165, 352, 412, 201,  24, 406, 405, 515, 174,\n",
       "       359, 111, 460, 508,  92, 448, 304, 313, 302, 223, 152, 133, 397,\n",
       "       212,  25, 204, 274, 468, 214, 301,  34, 219, 173, 270, 388, 317,\n",
       "       452,   1, 389, 409, 445, 199, 320, 370, 385,  63, 366, 178, 499,\n",
       "       188, 501, 321, 483, 280, 455, 142,  70, 149, 490, 404, 200, 391,\n",
       "       497, 134, 440, 323,  43, 318, 175,  46, 369, 480, 451, 242,  94,\n",
       "       338, 290, 478, 464, 332, 386,  56, 108,  35, 252,  37, 310,  27,\n",
       "       319, 234, 299, 257, 246,  44, 195, 162,  50, 446, 419,  60, 291,\n",
       "       432, 151, 135, 127,  61, 126, 331, 241,  57,  49, 449, 475, 285,\n",
       "       209, 312, 326, 284, 376, 322, 161, 371, 102, 314, 202,  65, 353,\n",
       "       132,  33, 486, 115, 487, 358, 425, 288, 477, 114,  53, 266, 441,\n",
       "        30,  77, 344, 383, 360, 147, 493, 261, 146, 368, 345, 392, 492,\n",
       "       269, 509, 398, 454, 437, 221, 191,   6, 394, 182,  36,   7, 268,\n",
       "       282, 411, 401,  20,  29, 339,  48,  12,  62, 247, 208, 227, 387,\n",
       "       205, 166,  31, 203, 512, 382, 355, 245, 226, 207,  96,  21, 124,\n",
       "       136, 229, 458,  83, 113,  41,  23, 303,  67, 110, 179, 393, 251,\n",
       "        80, 428, 153, 349, 350, 505, 123, 396,  72, 324, 163, 298, 230,\n",
       "        71, 365,   5, 482, 307, 248, 347, 435, 488,  22, 375, 137, 414,\n",
       "        14, 361, 309, 421,  51, 249, 177, 101, 457,  73, 171, 144, 447,\n",
       "       443, 413,  52, 316,  82, 224, 325,  47, 470, 390, 403, 424, 407,\n",
       "       514, 118,  88,  97, 422, 374, 220, 232,  39, 500, 300, 254,  84,\n",
       "       479, 380,   4, 356, 494,   3, 130, 474, 471, 305, 206, 100,   0,\n",
       "        17,  66, 399, 348, 308, 461, 459, 381,  26,  74, 125, 469, 172,\n",
       "       295, 185, 510,  64,  38, 156, 463, 465, 238, 119, 294, 427, 120,\n",
       "       337,  75, 218, 484, 400, 263, 511, 138,  15, 217, 415, 489, 384,\n",
       "        91, 364, 472, 198, 233, 341, 273, 333, 297, 293,  81,  85, 184,\n",
       "       354, 145, 343, 260,  58, 106, 340, 222, 140,  93, 193,  45, 158,\n",
       "        86, 496, 373, 244, 466,  13, 180, 168, 351, 328, 289, 426, 103,\n",
       "        87, 243, 275, 189, 363, 210, 495, 148, 192, 334, 498, 418, 107,\n",
       "       503, 139, 105, 281, 444,  16, 262,  54, 277,  99, 513, 194, 211,\n",
       "       287, 159, 467, 346, 327, 190, 450, 228, 272])"
      ]
     },
     "execution_count": 24,
     "metadata": {},
     "output_type": "execute_result"
    }
   ],
   "source": [
    "basic_query(q[0], t)"
   ]
  },
  {
   "cell_type": "code",
   "execution_count": 28,
   "metadata": {},
   "outputs": [
    {
     "data": {
      "text/plain": [
       "array([[265, 462,  78, ..., 450, 228, 272],\n",
       "       [ 79, 507, 434, ..., 450, 228, 272],\n",
       "       [442, 259, 462, ..., 450, 228, 272],\n",
       "       ...,\n",
       "       [213, 265, 442, ..., 450, 228, 272],\n",
       "       [299, 464, 291, ...,  81, 228, 272],\n",
       "       [507,  79, 434, ..., 228,  81, 272]])"
      ]
     },
     "execution_count": 28,
     "metadata": {},
     "output_type": "execute_result"
    }
   ],
   "source": [
    "def return_ranks(method, queries, gallery, **kwargs):\n",
    "    \n",
    "    if method == \"basic\":\n",
    "        ranks = np.array([basic_query(query, gallery, **kwargs) for query in queries])\n",
    "        return(ranks)\n",
    "\n",
    "a = return_ranks(\"basic\", q, t)\n",
    "a\n",
    "        "
   ]
  },
  {
   "cell_type": "code",
   "execution_count": 26,
   "metadata": {},
   "outputs": [],
   "source": [
    "\n"
   ]
  },
  {
   "cell_type": "code",
   "execution_count": 29,
   "metadata": {},
   "outputs": [
    {
     "data": {
      "text/plain": [
       "(0.8838282489082855,\n",
       " {1: 0.8857142857142857, 5: 0.7371428571428572, 10: 0.6728571428571429})"
      ]
     },
     "execution_count": 29,
     "metadata": {},
     "output_type": "execute_result"
    }
   ],
   "source": [
    "evaluate(a, q_n, t_n)"
   ]
  },
  {
   "cell_type": "code",
   "execution_count": 18,
   "metadata": {},
   "outputs": [],
   "source": [
    "def basic_query(query, query_target, metric_function = sklearn.metrics.pairwise.euclidean_distances):\n",
    "    \"\"\"Return the indexes of the query_target images, arranged in ascending euclidean distance as compared to the query image\"\"\"\n",
    "    \n",
    "    query = query.reshape((1, -1))\n",
    "    D = metric_function(query_target, query).squeeze()\n",
    "    index = np.argsort(D)\n",
    "\n",
    "    return(index)\n",
    "\n",
    "def query_results_to_truth_values(query_image_building, query_results, image_names):\n",
    "    \"\"\"Convert the index results of a query to an array of booleans corresponding to whether the correct image was retrieved.\"\"\"\n",
    "    return([query_image_building == image_names[index] for index in query_results])\n",
    "\n",
    "def precision_at_k(truth_values, k, warnings=True):\n",
    "    \"\"\"Return proportions of true values in the first k elements.\n",
    "    If warnings=True and all true values occur before the kth element, raise an error\"\"\"\n",
    "    p_at_k = truth_values[:k].count(True) / k\n",
    "\n",
    "    # if warnings:\n",
    "    #     if k < len(truth_values):\n",
    "    #         if truth_values[k:].count(True) == 0:\n",
    "    #             raise ValueError(\"All true values are before the first k values\")\n",
    "    \n",
    "    return(p_at_k)\n",
    "\n",
    "\n",
    "def average_precision(truth_values):\n",
    "    \"\"\"Given a boolean input of whether returned query values are correct or false, return the average precision.\n",
    "    e.g. average_precision([True, True, False, True]) ~ 0.85\n",
    "    \"\"\"\n",
    "    precisions = []\n",
    "    for (index, val) in enumerate(truth_values):\n",
    "        if val: # == True\n",
    "            precisions.append(truth_values[:index + 1].count(True) / (index + 1))      \n",
    "\n",
    "    return(np.mean(precisions))"
   ]
  }
 ],
 "metadata": {
  "interpreter": {
   "hash": "1e0edef247045f2f5f35ac9d6435770b0c68a1ddd7eb34b4959830e587ac51e2"
  },
  "kernelspec": {
   "display_name": "Python 3.9.7 64-bit ('base': conda)",
   "language": "python",
   "name": "python3"
  },
  "language_info": {
   "codemirror_mode": {
    "name": "ipython",
    "version": 3
   },
   "file_extension": ".py",
   "mimetype": "text/x-python",
   "name": "python",
   "nbconvert_exporter": "python",
   "pygments_lexer": "ipython3",
   "version": "3.9.7"
  },
  "orig_nbformat": 4
 },
 "nbformat": 4,
 "nbformat_minor": 2
}
