{
 "cells": [
  {
   "cell_type": "markdown",
   "metadata": {},
   "source": [
    "# Compute Results of Analysis\n",
    "\n",
    "Combine SIFT, resnet, swin, vgg and vit features with basic distance analysis, query expansion and diffusion.\n",
    "\n",
    "____\n",
    "## Imports and Constants"
   ]
  },
  {
   "cell_type": "code",
   "execution_count": 1,
   "metadata": {},
   "outputs": [],
   "source": [
    "import numpy as np\n",
    "import pandas as pd\n",
    "import os\n",
    "import sklearn.metrics.pairwise\n",
    "import my_eval\n",
    "import query\n",
    "\n",
    "###########################################\n",
    "\n",
    "NOTEBOOK_DIR = \"/home/sean/Code/Pawsey/4. Clean\""
   ]
  },
  {
   "cell_type": "markdown",
   "metadata": {},
   "source": [
    "_____\n",
    "## Load Data"
   ]
  },
  {
   "cell_type": "code",
   "execution_count": 2,
   "metadata": {},
   "outputs": [
    {
     "name": "stdout",
     "output_type": "stream",
     "text": [
      "Loaded swin\n",
      "Loaded vgg\n",
      "Loaded resnet\n",
      "Loaded names\n",
      "Loaded vit\n"
     ]
    },
    {
     "data": {
      "text/plain": [
       "array([[ 0.4381919 , -1.1369115 , -0.49100572, ..., -0.27456677,\n",
       "         0.38102797, -0.30554023],\n",
       "       [-0.19804995,  0.02098738,  0.52111053, ...,  0.44540596,\n",
       "         0.8620084 ,  0.18907186],\n",
       "       [ 1.0216093 , -0.06300209, -0.06569103, ...,  0.02202551,\n",
       "        -0.32440802,  0.3858102 ],\n",
       "       ...,\n",
       "       [ 0.74518114, -0.9655011 , -0.55623275, ..., -0.39560622,\n",
       "         0.3983633 , -0.4672271 ],\n",
       "       [ 0.4493655 , -0.97439206, -0.61376625, ..., -0.19914342,\n",
       "         0.27447924, -0.3482531 ],\n",
       "       [ 0.04259995,  0.09633142,  0.65417933, ...,  0.5438953 ,\n",
       "         0.53027916,  0.03832415]], dtype=float32)"
      ]
     },
     "execution_count": 2,
     "metadata": {},
     "output_type": "execute_result"
    }
   ],
   "source": [
    "## Load features\n",
    "\n",
    "data = {}\n",
    "\n",
    "for descriptor in os.listdir(\"./data\"):\n",
    "\n",
    "    if descriptor == \"names\":\n",
    "        data[descriptor] = {\"ox\" : {}, \"par\" : {}}\n",
    "        for fname in os.listdir(\"./data/\" + descriptor):\n",
    "            split_name = fname[:-4].split(\"-\")\n",
    "            dataset = split_name[0]\n",
    "            if fname.endswith(\"y-names.npy\"):\n",
    "                data[descriptor][dataset][\"y\"] = np.load(\"./data/{}/{}\".format(descriptor, fname))\n",
    "            else:\n",
    "                difficulty = split_name[2]\n",
    "                data[descriptor][dataset][difficulty] = np.load(\"./data/{}/{}\".format(descriptor, fname))\n",
    "\n",
    "    else:\n",
    "        data[descriptor] = {\"ox\" : {\"E\" : {}, \"M\" : {}, \"H\" :{}},\n",
    "                            \"par\" : {\"E\" : {}, \"M\" : {}, \"H\" :{}}}\n",
    "        for fname in os.listdir(\"./data/\" + descriptor):\n",
    "            split_name = fname[:-4].split(\"-\")\n",
    "            if len(split_name) == 3:\n",
    "                pass\n",
    "            else:\n",
    "                (_, xy, dataset, difficulty) = split_name\n",
    "                data[descriptor][dataset][difficulty][xy] = np.load(\"./data/{}/{}\".format(descriptor, fname))\n",
    "    \n",
    "    print(\"Loaded \" + descriptor)\n",
    "\n",
    "data[\"swin\"][\"ox\"][\"E\"][\"x\"]"
   ]
  },
  {
   "cell_type": "code",
   "execution_count": 7,
   "metadata": {},
   "outputs": [
    {
     "ename": "AttributeError",
     "evalue": "'numpy.ndarray' object has no attribute 'loc'",
     "output_type": "error",
     "traceback": [
      "\u001b[0;31m---------------------------------------------------------------------------\u001b[0m",
      "\u001b[0;31mAttributeError\u001b[0m                            Traceback (most recent call last)",
      "\u001b[0;32m/tmp/ipykernel_27463/650390564.py\u001b[0m in \u001b[0;36m<module>\u001b[0;34m\u001b[0m\n\u001b[1;32m      4\u001b[0m \u001b[0mt_n\u001b[0m \u001b[0;34m=\u001b[0m \u001b[0mdata\u001b[0m\u001b[0;34m[\u001b[0m\u001b[0;34m\"names\"\u001b[0m\u001b[0;34m]\u001b[0m\u001b[0;34m[\u001b[0m\u001b[0;34m\"ox\"\u001b[0m\u001b[0;34m]\u001b[0m\u001b[0;34m[\u001b[0m\u001b[0;34m\"E\"\u001b[0m\u001b[0;34m]\u001b[0m\u001b[0;34m\u001b[0m\u001b[0;34m\u001b[0m\u001b[0m\n\u001b[1;32m      5\u001b[0m \u001b[0;34m\u001b[0m\u001b[0m\n\u001b[0;32m----> 6\u001b[0;31m \u001b[0mranks\u001b[0m \u001b[0;34m=\u001b[0m \u001b[0mquery\u001b[0m\u001b[0;34m.\u001b[0m\u001b[0mreturn_ranks\u001b[0m\u001b[0;34m(\u001b[0m\u001b[0;34m'expanded query'\u001b[0m\u001b[0;34m,\u001b[0m \u001b[0mq\u001b[0m\u001b[0;34m,\u001b[0m \u001b[0mt\u001b[0m\u001b[0;34m)\u001b[0m\u001b[0;34m\u001b[0m\u001b[0;34m\u001b[0m\u001b[0m\n\u001b[0m\u001b[1;32m      7\u001b[0m \u001b[0mlen\u001b[0m\u001b[0;34m(\u001b[0m\u001b[0mranks\u001b[0m\u001b[0;34m)\u001b[0m\u001b[0;34m\u001b[0m\u001b[0;34m\u001b[0m\u001b[0m\n",
      "\u001b[0;32m~/Code/Pawsey/4. Clean/query.py\u001b[0m in \u001b[0;36mreturn_ranks\u001b[0;34m(method, queries, gallery, **kwargs)\u001b[0m\n\u001b[1;32m     16\u001b[0m \u001b[0;34m\u001b[0m\u001b[0m\n\u001b[1;32m     17\u001b[0m     \u001b[0;32mif\u001b[0m \u001b[0mmethod\u001b[0m \u001b[0;34m==\u001b[0m \u001b[0;34m\"expanded query\"\u001b[0m\u001b[0;34m:\u001b[0m\u001b[0;34m\u001b[0m\u001b[0;34m\u001b[0m\u001b[0m\n\u001b[0;32m---> 18\u001b[0;31m         \u001b[0mranks\u001b[0m \u001b[0;34m=\u001b[0m \u001b[0mnp\u001b[0m\u001b[0;34m.\u001b[0m\u001b[0marray\u001b[0m\u001b[0;34m(\u001b[0m\u001b[0;34m[\u001b[0m\u001b[0mqe_query\u001b[0m\u001b[0;34m(\u001b[0m\u001b[0mquery\u001b[0m\u001b[0;34m,\u001b[0m \u001b[0mgallery\u001b[0m\u001b[0;34m,\u001b[0m \u001b[0;34m**\u001b[0m\u001b[0mkwargs\u001b[0m\u001b[0;34m)\u001b[0m \u001b[0;32mfor\u001b[0m \u001b[0mquery\u001b[0m \u001b[0;32min\u001b[0m \u001b[0mqueries\u001b[0m\u001b[0;34m]\u001b[0m\u001b[0;34m)\u001b[0m\u001b[0;34m\u001b[0m\u001b[0;34m\u001b[0m\u001b[0m\n\u001b[0m\u001b[1;32m     19\u001b[0m         \u001b[0;32mreturn\u001b[0m\u001b[0;34m(\u001b[0m\u001b[0mranks\u001b[0m\u001b[0;34m)\u001b[0m\u001b[0;34m\u001b[0m\u001b[0;34m\u001b[0m\u001b[0m\n\u001b[1;32m     20\u001b[0m \u001b[0;34m\u001b[0m\u001b[0m\n",
      "\u001b[0;32m~/Code/Pawsey/4. Clean/query.py\u001b[0m in \u001b[0;36m<listcomp>\u001b[0;34m(.0)\u001b[0m\n\u001b[1;32m     16\u001b[0m \u001b[0;34m\u001b[0m\u001b[0m\n\u001b[1;32m     17\u001b[0m     \u001b[0;32mif\u001b[0m \u001b[0mmethod\u001b[0m \u001b[0;34m==\u001b[0m \u001b[0;34m\"expanded query\"\u001b[0m\u001b[0;34m:\u001b[0m\u001b[0;34m\u001b[0m\u001b[0;34m\u001b[0m\u001b[0m\n\u001b[0;32m---> 18\u001b[0;31m         \u001b[0mranks\u001b[0m \u001b[0;34m=\u001b[0m \u001b[0mnp\u001b[0m\u001b[0;34m.\u001b[0m\u001b[0marray\u001b[0m\u001b[0;34m(\u001b[0m\u001b[0;34m[\u001b[0m\u001b[0mqe_query\u001b[0m\u001b[0;34m(\u001b[0m\u001b[0mquery\u001b[0m\u001b[0;34m,\u001b[0m \u001b[0mgallery\u001b[0m\u001b[0;34m,\u001b[0m \u001b[0;34m**\u001b[0m\u001b[0mkwargs\u001b[0m\u001b[0;34m)\u001b[0m \u001b[0;32mfor\u001b[0m \u001b[0mquery\u001b[0m \u001b[0;32min\u001b[0m \u001b[0mqueries\u001b[0m\u001b[0;34m]\u001b[0m\u001b[0;34m)\u001b[0m\u001b[0;34m\u001b[0m\u001b[0;34m\u001b[0m\u001b[0m\n\u001b[0m\u001b[1;32m     19\u001b[0m         \u001b[0;32mreturn\u001b[0m\u001b[0;34m(\u001b[0m\u001b[0mranks\u001b[0m\u001b[0;34m)\u001b[0m\u001b[0;34m\u001b[0m\u001b[0;34m\u001b[0m\u001b[0m\n\u001b[1;32m     20\u001b[0m \u001b[0;34m\u001b[0m\u001b[0m\n",
      "\u001b[0;32m~/Code/Pawsey/4. Clean/query.py\u001b[0m in \u001b[0;36mqe_query\u001b[0;34m(query, query_target, metric_function, qe_type, n, alpha)\u001b[0m\n\u001b[1;32m     43\u001b[0m     \u001b[0;32mif\u001b[0m \u001b[0mqe_type\u001b[0m \u001b[0;34m==\u001b[0m \u001b[0;34m\"qe baseline\"\u001b[0m\u001b[0;34m:\u001b[0m\u001b[0;34m\u001b[0m\u001b[0;34m\u001b[0m\u001b[0m\n\u001b[1;32m     44\u001b[0m         \u001b[0;31m# find top n results, combine top n into a new query, append results of new query to top n\u001b[0m\u001b[0;34m\u001b[0m\u001b[0;34m\u001b[0m\u001b[0m\n\u001b[0;32m---> 45\u001b[0;31m         \u001b[0mtop_n\u001b[0m \u001b[0;34m=\u001b[0m \u001b[0mquery_target\u001b[0m\u001b[0;34m.\u001b[0m\u001b[0mloc\u001b[0m\u001b[0;34m[\u001b[0m\u001b[0moriginal_results\u001b[0m\u001b[0;34m[\u001b[0m\u001b[0;34m:\u001b[0m\u001b[0mn\u001b[0m\u001b[0;34m]\u001b[0m\u001b[0;34m]\u001b[0m\u001b[0;34m\u001b[0m\u001b[0;34m\u001b[0m\u001b[0m\n\u001b[0m\u001b[1;32m     46\u001b[0m         \u001b[0msecond_query\u001b[0m \u001b[0;34m=\u001b[0m \u001b[0mnew_query\u001b[0m\u001b[0;34m(\u001b[0m\u001b[0mtop_n\u001b[0m\u001b[0;34m,\u001b[0m \u001b[0mweights\u001b[0m \u001b[0;34m=\u001b[0m \u001b[0mnp\u001b[0m\u001b[0;34m.\u001b[0m\u001b[0mones\u001b[0m\u001b[0;34m(\u001b[0m\u001b[0mn\u001b[0m\u001b[0;34m)\u001b[0m\u001b[0;34m)\u001b[0m\u001b[0;34m\u001b[0m\u001b[0;34m\u001b[0m\u001b[0m\n\u001b[1;32m     47\u001b[0m \u001b[0;34m\u001b[0m\u001b[0m\n",
      "\u001b[0;31mAttributeError\u001b[0m: 'numpy.ndarray' object has no attribute 'loc'"
     ]
    }
   ],
   "source": [
    "q = data[\"swin\"][\"ox\"][\"E\"][\"y\"]\n",
    "t = data[\"swin\"][\"ox\"][\"E\"][\"x\"]\n",
    "q_n = data[\"names\"][\"ox\"][\"y\"]\n",
    "t_n = data[\"names\"][\"ox\"][\"E\"]\n",
    "\n",
    "ranks = query.return_ranks('expanded query', q, t)\n",
    "len(ranks)"
   ]
  },
  {
   "cell_type": "code",
   "execution_count": 4,
   "metadata": {},
   "outputs": [
    {
     "data": {
      "text/plain": [
       "array([[239, 259, 276, ..., 184, 141, 515],\n",
       "       [434, 507,  79, ..., 184, 141, 515],\n",
       "       [213, 216, 462, ..., 184, 141, 515],\n",
       "       ...,\n",
       "       [213, 462,  89, ..., 184, 141, 515],\n",
       "       [241,  37, 134, ..., 184, 141, 515],\n",
       "       [434, 507,  79, ..., 184, 141, 515]])"
      ]
     },
     "execution_count": 4,
     "metadata": {},
     "output_type": "execute_result"
    }
   ],
   "source": [
    "ranks"
   ]
  },
  {
   "cell_type": "code",
   "execution_count": 5,
   "metadata": {},
   "outputs": [
    {
     "data": {
      "text/plain": [
       "(0.946203674510284,\n",
       " {1: 0.9285714285714286, 5: 0.8000000000000002, 10: 0.7357142857142857})"
      ]
     },
     "execution_count": 5,
     "metadata": {},
     "output_type": "execute_result"
    }
   ],
   "source": [
    "my_eval.evaluate(ranks, q_n, t_n)"
   ]
  },
  {
   "cell_type": "markdown",
   "metadata": {},
   "source": [
    "_____\n",
    "## Evaluate Methods"
   ]
  },
  {
   "cell_type": "code",
   "execution_count": 4,
   "metadata": {},
   "outputs": [
    {
     "name": "stdout",
     "output_type": "stream",
     "text": [
      "0.9261358175094431\n",
      "0.9073505021849247\n",
      "0.896813510052975\n",
      "0.9998563818817134\n",
      "0.9961624958766858\n",
      "0.9933816229795974\n",
      "0.7702650185187713\n",
      "0.6936577906313003\n",
      "0.6793737825003611\n",
      "0.9999790002913993\n",
      "0.9995414729807018\n",
      "0.9987283115102363\n",
      "0.8433871242193302\n",
      "0.8017895131082906\n",
      "0.7833786196998352\n",
      "0.9999729842836189\n",
      "0.9994494387571072\n",
      "0.9981388112203007\n",
      "0.9117628667549909\n",
      "0.8514689116597296\n",
      "0.8266221264342415\n",
      "0.9999949642911687\n",
      "0.9995945341170379\n",
      "0.9983795259835458\n"
     ]
    }
   ],
   "source": [
    "feature_types, datasets, difficulties, query_types, m_APs = [], [], [], [], []\n",
    "\n",
    "for feature_type in [\"swin\", \"vgg\", \"resnet\", \"vit\"]:\n",
    "    for dataset in [\"ox\", \"par\"]:\n",
    "        for difficulty in [\"E\", \"M\", \"H\"]:\n",
    "            queries = data[feature_type][dataset][difficulty][\"y\"]\n",
    "            gallery = data[feature_type][dataset][difficulty][\"x\"]\n",
    "            query_names = data[\"names\"][dataset][\"y\"]\n",
    "            gallery_names = data[\"names\"][dataset][difficulty]\n",
    "            \n",
    "            for i in range(3):\n",
    "                feature_type.append()\n",
    "\n",
    "            ranks = query.return_ranks('basic', queries, gallery, metric_function = sklearn.metrics.pairwise.cosine_distances)\n",
    "            mAP, precisions = my_eval.evaluate(ranks, query_names, gallery_names)\n",
    "            print(mAP)"
   ]
  }
 ],
 "metadata": {
  "interpreter": {
   "hash": "1e0edef247045f2f5f35ac9d6435770b0c68a1ddd7eb34b4959830e587ac51e2"
  },
  "kernelspec": {
   "display_name": "Python 3.9.7 64-bit ('base': conda)",
   "language": "python",
   "name": "python3"
  },
  "language_info": {
   "codemirror_mode": {
    "name": "ipython",
    "version": 3
   },
   "file_extension": ".py",
   "mimetype": "text/x-python",
   "name": "python",
   "nbconvert_exporter": "python",
   "pygments_lexer": "ipython3",
   "version": "3.9.7"
  },
  "orig_nbformat": 4
 },
 "nbformat": 4,
 "nbformat_minor": 2
}
