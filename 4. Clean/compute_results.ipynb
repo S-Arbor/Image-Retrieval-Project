{
 "cells": [
  {
   "cell_type": "markdown",
   "metadata": {},
   "source": [
    "# Compute Results of Analysis\n",
    "\n",
    "Combine SIFT, resnet, swin, vgg and vit features with basic distance analysis, query expansion and diffusion.\n",
    "\n",
    "____\n",
    "## Imports and Constants"
   ]
  },
  {
   "cell_type": "code",
   "execution_count": 1,
   "metadata": {},
   "outputs": [],
   "source": [
    "import numpy as np\n",
    "import pandas as pd\n",
    "import os\n",
    "import sklearn.metrics.pairwise\n",
    "import my_eval\n",
    "import query\n",
    "\n",
    "###########################################\n",
    "\n",
    "NOTEBOOK_DIR = \"/home/sean/Code/Pawsey/4. Clean\""
   ]
  },
  {
   "cell_type": "markdown",
   "metadata": {},
   "source": [
    "_____\n",
    "## Load Data"
   ]
  },
  {
   "cell_type": "code",
   "execution_count": 2,
   "metadata": {},
   "outputs": [
    {
     "name": "stdout",
     "output_type": "stream",
     "text": [
      "Loaded swin\n",
      "Loaded vgg\n",
      "Loaded resnet\n",
      "Loaded names\n",
      "Loaded vit\n",
      "Loaded names\n",
      "Loaded sift-10k\n",
      "Loaded sift-1k\n"
     ]
    },
    {
     "data": {
      "text/plain": [
       "array([[ 0.4381919 , -1.1369115 , -0.49100572, ..., -0.27456677,\n",
       "         0.38102797, -0.30554023],\n",
       "       [-0.19804995,  0.02098738,  0.52111053, ...,  0.44540596,\n",
       "         0.8620084 ,  0.18907186],\n",
       "       [ 1.0216093 , -0.06300209, -0.06569103, ...,  0.02202551,\n",
       "        -0.32440802,  0.3858102 ],\n",
       "       ...,\n",
       "       [ 0.74518114, -0.9655011 , -0.55623275, ..., -0.39560622,\n",
       "         0.3983633 , -0.4672271 ],\n",
       "       [ 0.4493655 , -0.97439206, -0.61376625, ..., -0.19914342,\n",
       "         0.27447924, -0.3482531 ],\n",
       "       [ 0.04259995,  0.09633142,  0.65417933, ...,  0.5438953 ,\n",
       "         0.53027916,  0.03832415]], dtype=float32)"
      ]
     },
     "execution_count": 2,
     "metadata": {},
     "output_type": "execute_result"
    }
   ],
   "source": [
    "## Load features\n",
    "\n",
    "data = {}\n",
    "\n",
    "for data_subset in [\"oldenburger\", \"sutton\"]:\n",
    "    subdir = \"./data/\" + data_subset\n",
    "    data[data_subset] = {}\n",
    "\n",
    "    for descriptor in os.listdir(subdir):\n",
    "\n",
    "        if descriptor == \"names\":\n",
    "            data[data_subset][descriptor] = {\"ox\" : {}, \"par\" : {}}\n",
    "            for fname in os.listdir(subdir + \"/\" + descriptor):\n",
    "                split_name = fname[:-4].split(\"-\")\n",
    "                dataset = split_name[0]\n",
    "                if fname.endswith(\"y-names.npy\"):\n",
    "                    data[data_subset][descriptor][dataset][\"y\"] = np.load(\"./data/{}/{}/{}\".format(data_subset, descriptor, fname))\n",
    "                else:\n",
    "                    difficulty = split_name[2]\n",
    "                    data[data_subset][descriptor][dataset][difficulty] = np.load(\"./data/{}/{}/{}\".format(data_subset, descriptor, fname))\n",
    "\n",
    "        else:\n",
    "            data[data_subset][descriptor] = {\"ox\" : {\"E\" : {}, \"M\" : {}, \"H\" :{}},\n",
    "                                \"par\" : {\"E\" : {}, \"M\" : {}, \"H\" :{}}}\n",
    "            for fname in os.listdir(subdir + \"/\" + descriptor):\n",
    "                split_name = fname[:-4].split(\"-\")\n",
    "                if len(split_name) == 3:\n",
    "                    pass\n",
    "                else:\n",
    "                    (_, xy, dataset, difficulty) = split_name\n",
    "                    data[data_subset][descriptor][dataset][difficulty][xy] = np.load(\"./data/{}/{}/{}\".format(data_subset, descriptor, fname))\n",
    "        \n",
    "        print(\"Loaded \" + descriptor)\n",
    "\n",
    "data[\"oldenburger\"][\"swin\"][\"ox\"][\"E\"][\"x\"]"
   ]
  },
  {
   "cell_type": "code",
   "execution_count": 3,
   "metadata": {},
   "outputs": [
    {
     "data": {
      "text/plain": [
       "70"
      ]
     },
     "execution_count": 3,
     "metadata": {},
     "output_type": "execute_result"
    }
   ],
   "source": [
    "q = data[\"oldenburger\"][\"swin\"][\"ox\"][\"E\"][\"y\"]\n",
    "t = data[\"oldenburger\"][\"swin\"][\"ox\"][\"E\"][\"x\"]\n",
    "q_n = data[\"oldenburger\"][\"names\"][\"ox\"][\"y\"]\n",
    "t_n = data[\"oldenburger\"][\"names\"][\"ox\"][\"E\"]\n",
    "\n",
    "ranks = query.return_ranks('expanded query', q, t, alpha=0)\n",
    "len(ranks)"
   ]
  },
  {
   "cell_type": "code",
   "execution_count": 4,
   "metadata": {},
   "outputs": [
    {
     "data": {
      "text/plain": [
       "array([[265, 462,  78, ..., 358, 477, 441],\n",
       "       [ 79, 507, 434, ..., 358, 477, 441],\n",
       "       [442, 259, 462, ..., 358, 477, 441],\n",
       "       ...,\n",
       "       [213, 265, 442, ..., 358, 477, 441],\n",
       "       [299, 464, 291, ..., 358, 477, 441],\n",
       "       [507,  79, 434, ..., 358, 477, 441]])"
      ]
     },
     "execution_count": 4,
     "metadata": {},
     "output_type": "execute_result"
    }
   ],
   "source": [
    "ranks"
   ]
  },
  {
   "cell_type": "code",
   "execution_count": 4,
   "metadata": {},
   "outputs": [
    {
     "data": {
      "text/plain": [
       "(0.5113329923966666,\n",
       " {1: 0.8857142857142857, 5: 0.7371428571428572, 10: 0.6728571428571429})"
      ]
     },
     "execution_count": 4,
     "metadata": {},
     "output_type": "execute_result"
    }
   ],
   "source": [
    "my_eval.evaluate(ranks, q_n, t_n)"
   ]
  },
  {
   "cell_type": "markdown",
   "metadata": {},
   "source": [
    "_____\n",
    "## Evaluate Methods"
   ]
  },
  {
   "cell_type": "code",
   "execution_count": 4,
   "metadata": {},
   "outputs": [
    {
     "name": "stdout",
     "output_type": "stream",
     "text": [
      "0.9261358175094431\n",
      "0.9073505021849247\n",
      "0.896813510052975\n",
      "0.9998563818817134\n",
      "0.9961624958766858\n",
      "0.9933816229795974\n",
      "0.7702650185187713\n",
      "0.6936577906313003\n",
      "0.6793737825003611\n",
      "0.9999790002913993\n",
      "0.9995414729807018\n",
      "0.9987283115102363\n",
      "0.8433871242193302\n",
      "0.8017895131082906\n",
      "0.7833786196998352\n",
      "0.9999729842836189\n",
      "0.9994494387571072\n",
      "0.9981388112203007\n",
      "0.9117628667549909\n",
      "0.8514689116597296\n",
      "0.8266221264342415\n",
      "0.9999949642911687\n",
      "0.9995945341170379\n",
      "0.9983795259835458\n"
     ]
    }
   ],
   "source": [
    "feature_types, datasets, difficulties, query_types, m_APs = [], [], [], [], []\n",
    "\n",
    "for feature_type in [\"swin\", \"vgg\", \"resnet\", \"vit\"]:\n",
    "    for dataset in [\"ox\", \"par\"]:\n",
    "        for difficulty in [\"E\", \"M\", \"H\"]:\n",
    "            queries = data[feature_type][dataset][difficulty][\"y\"]\n",
    "            gallery = data[feature_type][dataset][difficulty][\"x\"]\n",
    "            query_names = data[\"names\"][dataset][\"y\"]\n",
    "            gallery_names = data[\"names\"][dataset][difficulty]\n",
    "            \n",
    "            for i in range(3):\n",
    "                feature_type.append()\n",
    "\n",
    "            ranks = query.return_ranks('basic', queries, gallery, metric_function = sklearn.metrics.pairwise.cosine_distances)\n",
    "            mAP, precisions = my_eval.evaluate(ranks, query_names, gallery_names)\n",
    "            print(mAP)"
   ]
  }
 ],
 "metadata": {
  "interpreter": {
   "hash": "1e0edef247045f2f5f35ac9d6435770b0c68a1ddd7eb34b4959830e587ac51e2"
  },
  "kernelspec": {
   "display_name": "Python 3.9.7 64-bit ('base': conda)",
   "language": "python",
   "name": "python3"
  },
  "language_info": {
   "codemirror_mode": {
    "name": "ipython",
    "version": 3
   },
   "file_extension": ".py",
   "mimetype": "text/x-python",
   "name": "python",
   "nbconvert_exporter": "python",
   "pygments_lexer": "ipython3",
   "version": "3.9.7"
  },
  "orig_nbformat": 4
 },
 "nbformat": 4,
 "nbformat_minor": 2
}
