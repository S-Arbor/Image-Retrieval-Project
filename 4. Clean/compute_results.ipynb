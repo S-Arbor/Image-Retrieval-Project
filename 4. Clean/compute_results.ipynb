{
 "cells": [
  {
   "cell_type": "markdown",
   "metadata": {},
   "source": [
    "# Compute Results of Analysis\n",
    "\n",
    "Combine SIFT, resnet, swin, vgg and vit features with basic distance analysis, query expansion and diffusion.\n",
    "\n",
    "____\n",
    "## Imports and Constants"
   ]
  },
  {
   "cell_type": "code",
   "execution_count": 36,
   "metadata": {},
   "outputs": [],
   "source": [
    "import numpy as np\n",
    "import pandas as pd\n",
    "import os\n",
    "import sklearn.metrics.pairwise\n",
    "import my_eval\n",
    "import query\n",
    "\n",
    "###########################################\n",
    "\n",
    "NOTEBOOK_DIR = \"/home/sean/Code/Pawsey/4. Clean\""
   ]
  },
  {
   "cell_type": "markdown",
   "metadata": {},
   "source": [
    "_____\n",
    "## Load Data"
   ]
  },
  {
   "cell_type": "code",
   "execution_count": 4,
   "metadata": {},
   "outputs": [
    {
     "name": "stdout",
     "output_type": "stream",
     "text": [
      "Loaded swin\n",
      "Loaded vgg\n",
      "Loaded resnet\n",
      "Loaded names\n",
      "Loaded vit\n"
     ]
    },
    {
     "data": {
      "text/plain": [
       "array([[ 0.4381919 , -1.1369115 , -0.49100572, ..., -0.27456677,\n",
       "         0.38102797, -0.30554023],\n",
       "       [-0.19804995,  0.02098738,  0.52111053, ...,  0.44540596,\n",
       "         0.8620084 ,  0.18907186],\n",
       "       [ 1.0216093 , -0.06300209, -0.06569103, ...,  0.02202551,\n",
       "        -0.32440802,  0.3858102 ],\n",
       "       ...,\n",
       "       [ 0.74518114, -0.9655011 , -0.55623275, ..., -0.39560622,\n",
       "         0.3983633 , -0.4672271 ],\n",
       "       [ 0.4493655 , -0.97439206, -0.61376625, ..., -0.19914342,\n",
       "         0.27447924, -0.3482531 ],\n",
       "       [ 0.04259995,  0.09633142,  0.65417933, ...,  0.5438953 ,\n",
       "         0.53027916,  0.03832415]], dtype=float32)"
      ]
     },
     "execution_count": 4,
     "metadata": {},
     "output_type": "execute_result"
    }
   ],
   "source": [
    "## Load features\n",
    "\n",
    "data = {}\n",
    "\n",
    "for descriptor in os.listdir(\"./data\"):\n",
    "\n",
    "    if descriptor == \"names\":\n",
    "        data[descriptor] = {\"ox\" : {}, \"par\" : {}}\n",
    "        for fname in os.listdir(\"./data/\" + descriptor):\n",
    "            split_name = fname[:-4].split(\"-\")\n",
    "            dataset = split_name[0]\n",
    "            if fname.endswith(\"y-names.npy\"):\n",
    "                data[descriptor][dataset][\"y\"] = np.load(\"./data/{}/{}\".format(descriptor, fname))\n",
    "            else:\n",
    "                difficulty = split_name[2]\n",
    "                data[descriptor][dataset][difficulty] = np.load(\"./data/{}/{}\".format(descriptor, fname))\n",
    "\n",
    "    else:\n",
    "        data[descriptor] = {\"ox\" : {\"E\" : {}, \"M\" : {}, \"H\" :{}},\n",
    "                            \"par\" : {\"E\" : {}, \"M\" : {}, \"H\" :{}}}\n",
    "        for fname in os.listdir(\"./data/\" + descriptor):\n",
    "            split_name = fname[:-4].split(\"-\")\n",
    "            if len(split_name) == 3:\n",
    "                pass\n",
    "            else:\n",
    "                (_, xy, dataset, difficulty) = split_name\n",
    "                data[descriptor][dataset][difficulty][xy] = np.load(\"./data/{}/{}\".format(descriptor, fname))\n",
    "    \n",
    "    print(\"Loaded \" + descriptor)\n",
    "\n",
    "data[\"swin\"][\"ox\"][\"E\"][\"x\"]"
   ]
  },
  {
   "cell_type": "code",
   "execution_count": 27,
   "metadata": {},
   "outputs": [],
   "source": [
    "q = data[\"swin\"][\"ox\"][\"E\"][\"y\"]\n",
    "t = data[\"swin\"][\"ox\"][\"E\"][\"x\"]\n",
    "q_n = data[\"names\"][\"ox\"][\"y\"]\n",
    "t_n = data[\"names\"][\"ox\"][\"E\"]"
   ]
  },
  {
   "cell_type": "markdown",
   "metadata": {},
   "source": [
    "_____\n",
    "## Evaluate Methods"
   ]
  },
  {
   "cell_type": "code",
   "execution_count": 37,
   "metadata": {},
   "outputs": [
    {
     "ename": "AttributeError",
     "evalue": "module 'query' has no attribute 'return_ranks'",
     "output_type": "error",
     "traceback": [
      "\u001b[0;31m---------------------------------------------------------------------------\u001b[0m",
      "\u001b[0;31mAttributeError\u001b[0m                            Traceback (most recent call last)",
      "\u001b[0;32m/tmp/ipykernel_8676/4235278717.py\u001b[0m in \u001b[0;36m<module>\u001b[0;34m\u001b[0m\n\u001b[1;32m      9\u001b[0m             \u001b[0mgallery_names\u001b[0m \u001b[0;34m=\u001b[0m \u001b[0mdata\u001b[0m\u001b[0;34m[\u001b[0m\u001b[0;34m\"names\"\u001b[0m\u001b[0;34m]\u001b[0m\u001b[0;34m[\u001b[0m\u001b[0mdataset\u001b[0m\u001b[0;34m]\u001b[0m\u001b[0;34m[\u001b[0m\u001b[0mdifficulty\u001b[0m\u001b[0;34m]\u001b[0m\u001b[0;34m\u001b[0m\u001b[0;34m\u001b[0m\u001b[0m\n\u001b[1;32m     10\u001b[0m \u001b[0;34m\u001b[0m\u001b[0m\n\u001b[0;32m---> 11\u001b[0;31m             \u001b[0mranks\u001b[0m \u001b[0;34m=\u001b[0m \u001b[0mquery\u001b[0m\u001b[0;34m.\u001b[0m\u001b[0mreturn_ranks\u001b[0m\u001b[0;34m(\u001b[0m\u001b[0;34m'basic'\u001b[0m\u001b[0;34m,\u001b[0m \u001b[0mqueries\u001b[0m\u001b[0;34m,\u001b[0m \u001b[0mgallery\u001b[0m\u001b[0;34m)\u001b[0m\u001b[0;34m\u001b[0m\u001b[0;34m\u001b[0m\u001b[0m\n\u001b[0m\u001b[1;32m     12\u001b[0m             \u001b[0mmAP\u001b[0m\u001b[0;34m,\u001b[0m \u001b[0mprecisions\u001b[0m \u001b[0;34m=\u001b[0m \u001b[0mmy_eval\u001b[0m\u001b[0;34m.\u001b[0m\u001b[0mevaluate\u001b[0m\u001b[0;34m(\u001b[0m\u001b[0mranks\u001b[0m\u001b[0;34m,\u001b[0m \u001b[0mquery_names\u001b[0m\u001b[0;34m,\u001b[0m \u001b[0mgallery_names\u001b[0m\u001b[0;34m)\u001b[0m\u001b[0;34m\u001b[0m\u001b[0;34m\u001b[0m\u001b[0m\n\u001b[1;32m     13\u001b[0m             \u001b[0mprint\u001b[0m\u001b[0;34m(\u001b[0m\u001b[0mmAP\u001b[0m\u001b[0;34m)\u001b[0m\u001b[0;34m\u001b[0m\u001b[0;34m\u001b[0m\u001b[0m\n",
      "\u001b[0;31mAttributeError\u001b[0m: module 'query' has no attribute 'return_ranks'"
     ]
    }
   ],
   "source": [
    "feature_type, dataset, difficulty, query_type, m_AP = [], [], [], [], []\n",
    "\n",
    "for feature_type in [\"swin\", \"vgg\", \"resnet\", \"vit\"]:\n",
    "    for dataset in [\"ox\", \"par\"]:\n",
    "        for difficulty in [\"E\", \"M\", \"H\"]:\n",
    "            queries = data[feature_type][dataset][difficulty][\"x\"]\n",
    "            gallery = data[feature_type][dataset][difficulty][\"y\"]\n",
    "            query_names = data[\"names\"][dataset][\"y\"]\n",
    "            gallery_names = data[\"names\"][dataset][difficulty]\n",
    "\n",
    "            ranks = query.return_ranks('basic', queries, gallery)\n",
    "            mAP, precisions = my_eval.evaluate(ranks, query_names, gallery_names)\n",
    "            print(mAP)"
   ]
  }
 ],
 "metadata": {
  "interpreter": {
   "hash": "1e0edef247045f2f5f35ac9d6435770b0c68a1ddd7eb34b4959830e587ac51e2"
  },
  "kernelspec": {
   "display_name": "Python 3.9.7 64-bit ('base': conda)",
   "language": "python",
   "name": "python3"
  },
  "language_info": {
   "codemirror_mode": {
    "name": "ipython",
    "version": 3
   },
   "file_extension": ".py",
   "mimetype": "text/x-python",
   "name": "python",
   "nbconvert_exporter": "python",
   "pygments_lexer": "ipython3",
   "version": "3.9.7"
  },
  "orig_nbformat": 4
 },
 "nbformat": 4,
 "nbformat_minor": 2
}
