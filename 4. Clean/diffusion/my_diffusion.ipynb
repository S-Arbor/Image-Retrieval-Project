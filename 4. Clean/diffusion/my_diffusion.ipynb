{
 "cells": [
  {
   "cell_type": "code",
   "execution_count": 5,
   "metadata": {},
   "outputs": [],
   "source": [
    "import os\n",
    "import numpy as np\n",
    "import joblib\n",
    "import pickle\n",
    "from diffusion import Diffusion\n",
    "from sklearn import preprocessing\n",
    "from dataset import Dataset\n",
    "from knn import KNN\n",
    "from tqdm import tqdm\n",
    "import unittest\n",
    "import sklearn.metrics.pairwise\n",
    "import pandas as pd\n",
    "import cv2\n",
    "import matplotlib.pyplot as plt\n",
    "import seaborn as sns\n",
    "import PIL\n",
    "import time\n",
    "import glob\n",
    "import copy\n",
    "import sklearn.decomposition\n",
    "import rank\n",
    "\n",
    "NOTEBOOK_DIR = \"/home/sean/Code/Pawsey/2. Revised Data Analysis/diffusion\""
   ]
  },
  {
   "cell_type": "code",
   "execution_count": 6,
   "metadata": {},
   "outputs": [],
   "source": [
    "def query_results_to_truth_values(query_image_building, query_results, image_names):\n",
    "    \"\"\"Convert the index results of a query to an array of booleans corresponding to whether the correct image was retrieved.\"\"\"\n",
    "    return([query_image_building == image_names[index] for index in query_results])\n",
    "\n",
    "## Potential Improvements\n",
    "# 1. Precision_at_k to print precision at last true value?\n",
    "# 2. Create a more computationally efficient (/combined?) version.\n",
    "# 3. Add recall_at_k\n",
    "\n",
    "def precision_at_k(truth_values, k, warnings=True):\n",
    "    \"\"\"Return proportions of true values in the first k elements.\n",
    "    If warnings=True and all true values occur before the kth element, raise an error\"\"\"\n",
    "    p_at_k = truth_values[:k].count(True) / k\n",
    "\n",
    "    # if warnings:\n",
    "    #     if k < len(truth_values):\n",
    "    #         if truth_values[k:].count(True) == 0:\n",
    "    #             raise ValueError(\"All true values are before the first k values\")\n",
    "    \n",
    "    return(p_at_k)\n",
    "\n",
    "\n",
    "def average_precision(truth_values):\n",
    "    \"\"\"Given a boolean input of whether returned query values are correct or false, return the average precision.\n",
    "    e.g. average_precision([True, True, False, True]) ~ 0.85\n",
    "    \"\"\"\n",
    "    precisions = []\n",
    "    for (index, val) in enumerate(truth_values):\n",
    "        if val: # == True\n",
    "            precisions.append(truth_values[:index + 1].count(True) / (index + 1))      \n",
    "\n",
    "    return(np.mean(precisions))\n",
    "\n",
    "def compute_metrics(train_features, test_features, train_names, test_names, query_function, metric_function, average_mean_precision = True, k_values = [5,10,20], **kwargs):\n",
    "    \"\"\"Run each test feature against the train features,\"\"\"\n",
    "    average_precisions = []\n",
    "    precisions_at_k = {}\n",
    "    for k in k_values:\n",
    "        precisions_at_k[k] = []\n",
    "    \n",
    "    for (test_feature, test_feature_name) in zip(test_features.iterrows(), test_names):\n",
    "        query_image_features = test_feature[1].values # extract the values for the iterrows row object\n",
    "        query_results = query_function(query_image_features, train_features, metric_function, **kwargs)\n",
    "        truth_values = query_results_to_truth_values(test_feature_name, query_results, train_names)\n",
    "        \n",
    "        average_precisions.append(average_precision(truth_values))\n",
    "        for k in precisions_at_k:\n",
    "            p_at_k = precision_at_k(truth_values, k, warnings=False)\n",
    "            precisions_at_k[k].append(p_at_k)\n",
    "    \n",
    "    for (k_value, list_of_precisions) in precisions_at_k.items():\n",
    "        precisions_at_k[k_value] = np.mean(list_of_precisions)\n",
    "    \n",
    "    return(np.mean(average_precisions), precisions_at_k)"
   ]
  },
  {
   "cell_type": "markdown",
   "metadata": {},
   "source": [
    "____\n",
    "## Convert Features to Pickles"
   ]
  },
  {
   "cell_type": "code",
   "execution_count": 7,
   "metadata": {},
   "outputs": [],
   "source": [
    "def conv_file_to_npy(input_fname, output_fname, input_type = \"csv\"):\n",
    "    \"\"\"Load an input file, convert the data to a numpy array, pickle it and save to an output file\"\"\"\n",
    "\n",
    "    if input_type == \"csv\":\n",
    "        data = pd.read_csv(input_fname).to_numpy()\n",
    "    \n",
    "    np.save(output_fname, data)\n",
    "    \n",
    "    return"
   ]
  },
  {
   "cell_type": "code",
   "execution_count": 8,
   "metadata": {},
   "outputs": [],
   "source": [
    "basedir = \"/home/sean/Code/Pawsey/3. Data/New_SIFT\"\n",
    "\n",
    "conv_file_to_npy(\"/home/sean/Code/Pawsey/3. Data/New_SIFT/SIFT/roxford5k-1000-easy-SIFT.csv\", NOTEBOOK_DIR + \"/data/gallery.npy\")\n",
    "conv_file_to_npy(\"/home/sean/Code/Pawsey/3. Data/New_SIFT/SIFT/roxford5k-1000-querye-SIFT.csv\", NOTEBOOK_DIR + \"/data/queries.npy\")"
   ]
  },
  {
   "cell_type": "markdown",
   "metadata": {},
   "source": [
    "____\n",
    "## Run Diffusion"
   ]
  },
  {
   "cell_type": "code",
   "execution_count": 9,
   "metadata": {},
   "outputs": [],
   "source": [
    "def return_ranks(queries, gallery):\n",
    "    n_query = len(queries)\n",
    "    diffusion = Diffusion(np.vstack([queries, gallery]), cache_dir)\n",
    "    offline = diffusion.get_offline_results(truncation_size, kd)\n",
    "    features = preprocessing.normalize(offline, norm=\"l2\", axis=1)\n",
    "    scores = features[:n_query] @ features[n_query:].T\n",
    "    ranks = np.argsort(-scores.todense())\n",
    "    return(ranks)\n"
   ]
  },
  {
   "cell_type": "code",
   "execution_count": 36,
   "metadata": {},
   "outputs": [],
   "source": [
    "DATA_DIR=\"./data\"\n",
    "# directory to cache files\n",
    "TMP_DIR=\"./tmp\"\n",
    "# oxford5k, oxford105k, paris6k, paris106k\n",
    "DATASET=\"oxford5k\"\n",
    "# resnet or siamac\n",
    "FEATURE_TYPE=\"resnet\"\n",
    "\n",
    "cache_dir = \"./temp/roxford5k_easy_SIFT\"\n",
    "gallery_path = \"/home/sean/Downloads/diffusion/data/gallery/oxford5k_resnet_glob.npy\" # \"./data/gallery.npy\"\n",
    "query_path = \"/home/sean/Downloads/diffusion/data/query/oxford5k_resnet_glob.npy\" # \"./data/queries.npy\"\n",
    "dataset_name = \"roxford5k_easy\"\n",
    "truncation_size = 500\n",
    "kq, kd = 10, 50"
   ]
  },
  {
   "cell_type": "code",
   "execution_count": 11,
   "metadata": {},
   "outputs": [
    {
     "data": {
      "text/plain": [
       "'/home/sean/Code/Pawsey/2. Revised Data Analysis/diffusion'"
      ]
     },
     "execution_count": 11,
     "metadata": {},
     "output_type": "execute_result"
    }
   ],
   "source": [
    "os.getcwd()"
   ]
  },
  {
   "cell_type": "code",
   "execution_count": 33,
   "metadata": {},
   "outputs": [
    {
     "name": "stdout",
     "output_type": "stream",
     "text": [
      "[offline] starting offline diffusion\n",
      "[offline] 1) prepare Laplacian and initial state\n",
      "[offline] 2) gallery-side diffusion\n"
     ]
    },
    {
     "name": "stderr",
     "output_type": "stream",
     "text": [
      "[offline] diffusion: 100%|██████████| 5118/5118 [00:06<00:00, 754.49it/s]\n"
     ]
    },
    {
     "name": "stdout",
     "output_type": "stream",
     "text": [
      "[offline] 3) merge offline results\n",
      "[cache] obtaining ./temp/roxford5k_easy_SIFT/offline.jbl costs 7.97s\n"
     ]
    },
    {
     "data": {
      "text/plain": [
       "matrix([[2989,  587, 4045, ..., 3086, 2752, 4465],\n",
       "        [2989,  587, 4045, ..., 3086, 2752, 4465],\n",
       "        [4178, 1334,  587, ..., 2603,  971, 2296],\n",
       "        ...,\n",
       "        [2349, 4773,  808, ..., 4759,  600, 4465],\n",
       "        [3634,  544, 2794, ...,  971, 2752, 4759],\n",
       "        [4773, 4055,  808, ..., 3086, 2752, 1304]])"
      ]
     },
     "execution_count": 33,
     "metadata": {},
     "output_type": "execute_result"
    }
   ],
   "source": [
    "if not os.path.isdir(cache_dir):\n",
    "    os.makedirs(cache_dir)\n",
    "dataset = Dataset(query_path, gallery_path)\n",
    "queries, gallery = dataset.queries, dataset.gallery\n",
    "ranks = return_ranks(queries, gallery)\n",
    "ranks"
   ]
  },
  {
   "cell_type": "code",
   "execution_count": 38,
   "metadata": {},
   "outputs": [
    {
     "name": "stdout",
     "output_type": "stream",
     "text": [
      "[cache] loading ./temp/roxford5k_easy_SIFT/offline.jbl costs 0.00s\n"
     ]
    },
    {
     "data": {
      "text/plain": [
       "matrix([[  0, 352, 351, ..., 162, 192, 515],\n",
       "        [382, 344, 313, ..., 121, 497, 393],\n",
       "        [  0, 352, 351, ..., 162, 192, 515],\n",
       "        ...,\n",
       "        [458,   0, 350, ..., 162, 192, 515],\n",
       "        [  5,  57, 302, ..., 497, 206, 357],\n",
       "        [382, 344, 313, ...,  25, 357, 494]])"
      ]
     },
     "execution_count": 38,
     "metadata": {},
     "output_type": "execute_result"
    }
   ],
   "source": [
    "if not os.path.isdir(cache_dir):\n",
    "    os.makedirs(cache_dir)\n",
    "dataset = Dataset(q_path_2, g_path_2)\n",
    "queries, gallery = dataset.queries, dataset.gallery\n",
    "ranks = return_ranks(queries, gallery)\n",
    "ranks"
   ]
  },
  {
   "cell_type": "code",
   "execution_count": 22,
   "metadata": {},
   "outputs": [],
   "source": [
    "g_path_2 = \"./data/gallery.npy\"\n",
    "q_path_2 = \"./data/queries.npy\"\n",
    "\n",
    "my_g = np.load(g_path_2)\n",
    "their_g = np.load(gallery_path)\n",
    "\n",
    "my_q = np.load(q_path_2)\n",
    "their_q = np.load(query_path)"
   ]
  },
  {
   "cell_type": "code",
   "execution_count": 20,
   "metadata": {},
   "outputs": [
    {
     "data": {
      "text/plain": [
       "(516, 1000)"
      ]
     },
     "execution_count": 20,
     "metadata": {},
     "output_type": "execute_result"
    }
   ],
   "source": [
    "np.shape(my_g)"
   ]
  },
  {
   "cell_type": "code",
   "execution_count": 21,
   "metadata": {},
   "outputs": [
    {
     "data": {
      "text/plain": [
       "(5063, 2048)"
      ]
     },
     "execution_count": 21,
     "metadata": {},
     "output_type": "execute_result"
    }
   ],
   "source": [
    "np.shape(their_g)"
   ]
  },
  {
   "cell_type": "code",
   "execution_count": 23,
   "metadata": {},
   "outputs": [
    {
     "data": {
      "text/plain": [
       "(70, 1000)"
      ]
     },
     "execution_count": 23,
     "metadata": {},
     "output_type": "execute_result"
    }
   ],
   "source": [
    "np.shape(my_q)"
   ]
  },
  {
   "cell_type": "code",
   "execution_count": 24,
   "metadata": {},
   "outputs": [
    {
     "data": {
      "text/plain": [
       "(55, 2048)"
      ]
     },
     "execution_count": 24,
     "metadata": {},
     "output_type": "execute_result"
    }
   ],
   "source": [
    "np.shape(their_q)"
   ]
  },
  {
   "cell_type": "code",
   "execution_count": 26,
   "metadata": {},
   "outputs": [
    {
     "data": {
      "text/plain": [
       "(1000,)"
      ]
     },
     "execution_count": 26,
     "metadata": {},
     "output_type": "execute_result"
    }
   ],
   "source": [
    "np.shape(my_g[0])"
   ]
  },
  {
   "cell_type": "code",
   "execution_count": 27,
   "metadata": {},
   "outputs": [
    {
     "data": {
      "text/plain": [
       "(2048,)"
      ]
     },
     "execution_count": 27,
     "metadata": {},
     "output_type": "execute_result"
    }
   ],
   "source": [
    "np.shape(their_g[0])"
   ]
  },
  {
   "cell_type": "markdown",
   "metadata": {},
   "source": [
    "____\n",
    "## Evaluation"
   ]
  },
  {
   "cell_type": "code",
   "execution_count": 39,
   "metadata": {},
   "outputs": [],
   "source": [
    "gallery_names = np.load(\"/home/sean/Code/Pawsey/3. Data/New_SIFT/names/roxford5k-1000-easy-names.npy\")\n",
    "query_names = np.load(\"/home/sean/Code/Pawsey/3. Data/New_SIFT/names/roxford5k-1000-querye-names.npy\")"
   ]
  },
  {
   "cell_type": "code",
   "execution_count": 77,
   "metadata": {},
   "outputs": [
    {
     "data": {
      "text/plain": [
       "array([[  0, 352, 351, ..., 162, 192, 515],\n",
       "       [382, 344, 313, ..., 121, 497, 393],\n",
       "       [  0, 352, 351, ..., 162, 192, 515],\n",
       "       ...,\n",
       "       [458,   0, 350, ..., 162, 192, 515],\n",
       "       [  5,  57, 302, ..., 497, 206, 357],\n",
       "       [382, 344, 313, ...,  25, 357, 494]])"
      ]
     },
     "execution_count": 77,
     "metadata": {},
     "output_type": "execute_result"
    }
   ],
   "source": [
    "ranks2 = ranks.A\n",
    "ranks2"
   ]
  },
  {
   "cell_type": "code",
   "execution_count": 86,
   "metadata": {},
   "outputs": [
    {
     "data": {
      "text/plain": [
       "0.02553419210531353"
      ]
     },
     "execution_count": 86,
     "metadata": {},
     "output_type": "execute_result"
    }
   ],
   "source": [
    "row = ranks2[0]\n",
    "truth_values = [gallery_names[index] == \"ashmolean\" for index in row]\n",
    "average_precision(truth_values)"
   ]
  },
  {
   "cell_type": "code",
   "execution_count": 88,
   "metadata": {},
   "outputs": [
    {
     "data": {
      "text/plain": [
       "0.29292679643549335"
      ]
     },
     "execution_count": 88,
     "metadata": {},
     "output_type": "execute_result"
    }
   ],
   "source": [
    "mean_aps = []\n",
    "\n",
    "for query_ranks, query_building in zip(ranks2, query_names):\n",
    "    truth_values = query_results_to_truth_values(query_building, query_ranks, gallery_names)\n",
    "    mean_aps.append(average_precision(truth_values))\n",
    "\n",
    "np.mean(mean_aps)"
   ]
  },
  {
   "cell_type": "code",
   "execution_count": 51,
   "metadata": {},
   "outputs": [
    {
     "data": {
      "text/plain": [
       "numpy.matrix"
      ]
     },
     "execution_count": 51,
     "metadata": {},
     "output_type": "execute_result"
    }
   ],
   "source": [
    "type(ranks)"
   ]
  }
 ],
 "metadata": {
  "interpreter": {
   "hash": "1e0edef247045f2f5f35ac9d6435770b0c68a1ddd7eb34b4959830e587ac51e2"
  },
  "kernelspec": {
   "display_name": "Python 3.9.7 64-bit ('base': conda)",
   "language": "python",
   "name": "python3"
  },
  "language_info": {
   "codemirror_mode": {
    "name": "ipython",
    "version": 3
   },
   "file_extension": ".py",
   "mimetype": "text/x-python",
   "name": "python",
   "nbconvert_exporter": "python",
   "pygments_lexer": "ipython3",
   "version": "3.9.7"
  },
  "orig_nbformat": 4
 },
 "nbformat": 4,
 "nbformat_minor": 2
}
