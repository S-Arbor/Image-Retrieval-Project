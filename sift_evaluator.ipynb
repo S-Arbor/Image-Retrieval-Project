{
 "cells": [
  {
   "cell_type": "markdown",
   "metadata": {},
   "source": [
    "## Sift Evaluator\n",
    "\n",
    "The objectives of this notebook are to:\n",
    "\n",
    "- Define functions that query the data based on different parameters (distance metric, transformations?)\n",
    "- Define functions to evaluate the truth of each returned query parameter\n",
    "- Define functions to calculate mAP and precision@k for the above output\n",
    "- Investigate the effects of different parameters on mAP, p@k."
   ]
  },
  {
   "cell_type": "markdown",
   "metadata": {},
   "source": [
    "____"
   ]
  },
  {
   "cell_type": "code",
   "execution_count": 1,
   "metadata": {},
   "outputs": [],
   "source": [
    "import numpy as np"
   ]
  },
  {
   "cell_type": "markdown",
   "metadata": {},
   "source": [
    "____\n",
    "## Query Functions"
   ]
  },
  {
   "cell_type": "markdown",
   "metadata": {},
   "source": [
    "_____\n",
    "## Query to Truth Value Functions"
   ]
  },
  {
   "cell_type": "markdown",
   "metadata": {},
   "source": [
    "_______\n",
    "## Truth Value Metrics Functions"
   ]
  },
  {
   "cell_type": "code",
   "execution_count": null,
   "metadata": {},
   "outputs": [],
   "source": [
    "def precision_at_k(truth_values, k, warnings=True):\n",
    "    \"\"\"Return proportions of true values in the first k elements.\n",
    "    If warnings=True and all true values occur before the kth element, raise an error and print the value at k and the value at the last true value.\"\"\"\n",
    "    p_at_k = truth_values[:k].count(True) / k\n",
    "\n",
    "    if warnings:\n",
    "        if truth_values[k:].count(True) == 0:\n",
    "            print(\"Precision@k: {} \\n Precision@LastTrueValue)\n",
    "\n",
    "\n",
    "def mean_average_precision(truth_values):\n",
    "    \"\"\"Given a boolean input of whether returned query values are correct or false, return the mean average precision.\n",
    "    e.g. mean_average_precision([True, True, False, True]) ~ 0.85\n",
    "    \"\"\"\n",
    "    \n",
    "    return()"
   ]
  }
 ],
 "metadata": {
  "interpreter": {
   "hash": "1e0edef247045f2f5f35ac9d6435770b0c68a1ddd7eb34b4959830e587ac51e2"
  },
  "kernelspec": {
   "display_name": "Python 3.9.7 64-bit ('base': conda)",
   "language": "python",
   "name": "python3"
  },
  "language_info": {
   "codemirror_mode": {
    "name": "ipython",
    "version": 3
   },
   "file_extension": ".py",
   "mimetype": "text/x-python",
   "name": "python",
   "nbconvert_exporter": "python",
   "pygments_lexer": "ipython3",
   "version": "3.9.7"
  },
  "orig_nbformat": 4
 },
 "nbformat": 4,
 "nbformat_minor": 2
}
