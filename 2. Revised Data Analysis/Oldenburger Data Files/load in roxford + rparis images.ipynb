{
 "cells": [
  {
   "cell_type": "code",
   "execution_count": 1,
   "metadata": {},
   "outputs": [],
   "source": [
    "import pickle\n",
    "import os\n",
    "import sys\n",
    "from pathlib import Path\n",
    "import cv2\n",
    "import matplotlib.pyplot as plt"
   ]
  },
  {
   "cell_type": "markdown",
   "metadata": {},
   "source": [
    "## Oxford5k"
   ]
  },
  {
   "cell_type": "code",
   "execution_count": null,
   "metadata": {},
   "outputs": [],
   "source": [
    "# setting paths:\n",
    "\n",
    "# path to oxford5k dataset\n",
    "images_path = \"{path_to_oxford5k_dataset}\"\n",
    "pickle_path = \"{path_to_roxford5k_pickle}\"\n",
    "dir_to_save = \"{directory_to_save_all_images}\"\n",
    "\n",
    "###### Make sure to make folders in the dir_to_save: roxford5k/{} -> easy, hard, junk, query, full_guery"
   ]
  },
  {
   "cell_type": "code",
   "execution_count": 167,
   "metadata": {},
   "outputs": [],
   "source": [
    "# open pkl folder\n",
    "with open(pickle_path, 'rb') as f:\n",
    "    data = pickle.load(f)"
   ]
  },
  {
   "cell_type": "code",
   "execution_count": 170,
   "metadata": {},
   "outputs": [],
   "source": [
    "# set names\n",
    "queries_names = ['all_souls','all_souls','all_souls','all_souls','all_souls',\n",
    "                'ashmolean','ashmolean','ashmolean','ashmolean','ashmolean',\n",
    "                'balliol','balliol','balliol','balliol','balliol',\n",
    "                'bodleian','bodleian','bodleian','bodleian','bodleian',\n",
    "                'christ_church','christ_church','christ_church','christ_church','christ_church',\n",
    "                'cornmarket','cornmarket','cornmarket','cornmarket','cornmarket',\n",
    "                'hertford','hertford','hertford','hertford','hertford',\n",
    "                'keble','keble','keble','keble','keble',\n",
    "                'magdalen','magdalen','magdalen','magdalen','magdalen',\n",
    "                'pitt_rivers','pitt_rivers','pitt_rivers','pitt_rivers','pitt_rivers',\n",
    "                'radcliffe_camera','radcliffe_camera','radcliffe_camera','radcliffe_camera','radcliffe_camera',\n",
    "                'all_souls','all_souls','all_souls',\n",
    "                'ashmolean','ashmolean','ashmolean',\n",
    "                'christ_church','christ_church','christ_church',\n",
    "                'hertford','hertford','hertford',\n",
    "                'radcliffe_camera','radcliffe_camera','radcliffe_camera']"
   ]
  },
  {
   "cell_type": "code",
   "execution_count": 171,
   "metadata": {
    "scrolled": true
   },
   "outputs": [],
   "source": [
    "# finding query images\n",
    "\n",
    "queries = []\n",
    "cropped_queries = []\n",
    "\n",
    "for idx, q in enumerate(data['qimlist']):\n",
    "    qimg_path = os.path.join(images_path, q+\".jpg\")\n",
    "    qimg = cv2.imread(qimg_path)\n",
    "    qimg = cv2.cvtColor(qimg, cv2.COLOR_BGR2RGB)\n",
    "    \n",
    "    bbox = data['gnd'][idx]['bbx']\n",
    "    crop_qimg = qimg[int(bbox[1]):int(bbox[3]), int(bbox[0]):int(bbox[2])]\n",
    "    \n",
    "    queries.append(qimg)\n",
    "    cropped_queries.append(crop_qimg)"
   ]
  },
  {
   "cell_type": "code",
   "execution_count": 172,
   "metadata": {},
   "outputs": [
    {
     "name": "stdout",
     "output_type": "stream",
     "text": [
      "Easy: 516 | Hard: 685 | Junk: 337\n"
     ]
    }
   ],
   "source": [
    "# finding easy, hard, junk images + names\n",
    "\n",
    "easy = []\n",
    "easy_names = []\n",
    "easy_full_names = []\n",
    "hard = []\n",
    "hard_names = []\n",
    "hard_full_names = []\n",
    "junk = []\n",
    "junk_names = []\n",
    "junk_full_names = []\n",
    "\n",
    "for idx, out in enumerate(data['gnd']):\n",
    "    easy_data = out['easy']\n",
    "    hard_data = out['hard']\n",
    "    junk_data = out['junk']\n",
    "    \n",
    "    for i in easy_data:\n",
    "        name = data['imlist'][i]\n",
    "        if name not in easy_full_names:\n",
    "            easy_full_names.append(name)\n",
    "            eimg_path = os.path.join(images_path, name + \".jpg\")\n",
    "            eimg = cv2.imread(eimg_path)\n",
    "            eimg = cv2.cvtColor(eimg, cv2.COLOR_BGR2RGB)\n",
    "            easy.append(eimg)\n",
    "            easy_names.append(queries_names[idx])\n",
    "    \n",
    "    for i in hard_data:\n",
    "        name = data['imlist'][i]\n",
    "        if name not in hard_full_names:\n",
    "            hard_full_names.append(name)\n",
    "            himg_path = os.path.join(images_path, name + \".jpg\")\n",
    "            himg = cv2.imread(himg_path)\n",
    "            himg = cv2.cvtColor(himg, cv2.COLOR_BGR2RGB)\n",
    "            hard.append(himg)\n",
    "            hard_names.append(queries_names[idx])\n",
    "        \n",
    "    for i in junk_data:\n",
    "        name = data['imlist'][i]\n",
    "        if name not in junk_full_names:\n",
    "            junk_full_names.append(name)\n",
    "            jimg_path = os.path.join(images_path, name + \".jpg\")\n",
    "            jimg = cv2.imread(jimg_path)\n",
    "            jimg = cv2.cvtColor(jimg, cv2.COLOR_BGR2RGB)\n",
    "            junk.append(jimg)\n",
    "            junk_names.append(queries_names[idx])\n",
    "\n",
    "print(\"Easy: {} | Hard: {} | Junk: {}\".format(len(easy), len(hard), len(junk)))"
   ]
  },
  {
   "cell_type": "code",
   "execution_count": null,
   "metadata": {},
   "outputs": [],
   "source": [
    "# saving to file:  \n",
    "############ make sure you have the following folders made! #############\n",
    "\n",
    "file = \"{}/roxford5k/easy\".format(dir_to_save)\n",
    "for idx, (img, name) in enumerate(zip(easy, easy_names)):\n",
    "    img = cv2.cvtColor(img, cv2.COLOR_BGR2RGB)\n",
    "    filename = os.path.join(file, name+\"-\"+str(idx)+\".jpg\")\n",
    "    cv2.imwrite(filename, img)\n",
    "\n",
    "file = \"{}/roxford5k/hard\".format(dir_to_save)\n",
    "for idx, (img, name) in enumerate(zip(hard, hard_names)):\n",
    "    img = cv2.cvtColor(img, cv2.COLOR_BGR2RGB)\n",
    "    filename = os.path.join(file, name+\"-\"+str(idx)+\".jpg\")\n",
    "    cv2.imwrite(filename, img)\n",
    "\n",
    "file = \"{}/roxford5k/junk\".format(dir_to_save)\n",
    "for idx, (img, name) in enumerate(zip(junk, junk_names)):\n",
    "    img = cv2.cvtColor(img, cv2.COLOR_BGR2RGB)\n",
    "    filename = os.path.join(file, name+\"-\"+str(idx)+\".jpg\")\n",
    "    cv2.imwrite(filename, img)\n",
    "\n",
    "file = \"{}/roxford5k/query\".format(dir_to_save)\n",
    "for idx, (img, name) in enumerate(zip(cropped_queries, queries_names)):\n",
    "    img = cv2.cvtColor(img, cv2.COLOR_BGR2RGB)\n",
    "    filename = os.path.join(file, name+\"-\"+str(idx)+\".jpg\")\n",
    "    cv2.imwrite(filename, img)\n",
    "\n",
    "file = \"{}/roxford5k/full_query\".format(dir_to_save)\n",
    "for idx, (img, name) in enumerate(zip(queries, queries_names)):\n",
    "    img = cv2.cvtColor(img, cv2.COLOR_BGR2RGB)\n",
    "    filename = os.path.join(file, name+\"-\"+str(idx)+\".jpg\")\n",
    "    cv2.imwrite(filename, img)"
   ]
  },
  {
   "cell_type": "markdown",
   "metadata": {},
   "source": [
    "## Paris6k"
   ]
  },
  {
   "cell_type": "code",
   "execution_count": null,
   "metadata": {},
   "outputs": [],
   "source": [
    "# setting paths:\n",
    "\n",
    "# path to oxford5k dataset\n",
    "images_path = \"{path_to_paris6k_dataset}\"\n",
    "pickle_path = \"{path_to_rparis6k_pickle}\"\n",
    "dir_to_save = \"{directory_to_save_all_images}\"\n",
    "\n",
    "###### Make sure to make folders in the dir_to_save: rparis6k/{} -> easy, hard, junk, query, full_guery #######"
   ]
  },
  {
   "cell_type": "code",
   "execution_count": 180,
   "metadata": {},
   "outputs": [],
   "source": [
    "with open(pickle_path, 'rb') as f:\n",
    "    data = pickle.load(f)"
   ]
  },
  {
   "cell_type": "code",
   "execution_count": 183,
   "metadata": {},
   "outputs": [],
   "source": [
    "# finding query images\n",
    "\n",
    "queries = []\n",
    "cropped_queries = []\n",
    "\n",
    "for idx, q in enumerate(data['qimlist']):\n",
    "    qimg_path = os.path.join(paris_path, q+\".jpg\")\n",
    "    qimg = cv2.imread(qimg_path)\n",
    "    qimg = cv2.cvtColor(qimg, cv2.COLOR_BGR2RGB)\n",
    "    \n",
    "    bbox = data['gnd'][idx]['bbx']\n",
    "    crop_qimg = qimg[int(bbox[1]):int(bbox[3]), int(bbox[0]):int(bbox[2])]\n",
    "    \n",
    "    queries.append(qimg)\n",
    "    cropped_queries.append(crop_qimg)"
   ]
  },
  {
   "cell_type": "code",
   "execution_count": 184,
   "metadata": {},
   "outputs": [],
   "source": [
    "# setting query names\n",
    "queries_names = [\"defense\",\"defense\",\"defense\",\"defense\",\"defense\",\n",
    "                 \"eiffel\",\"eiffel\",\"eiffel\",\"eiffel\",\"eiffel\",\n",
    "                 \"invalides\",\"invalides\",\"invalides\",\"invalides\",\"invalides\",\n",
    "                 \"louvre\",\"louvre\",\"louvre\",\"louvre\",\"louvre\",\n",
    "                 \"moulinrouge\",\"moulinrouge\",\"moulinrouge\",\"moulinrouge\",\"moulinrouge\",\n",
    "                 \"museedorsay\",\"museedorsay\",\"museedorsay\",\"museedorsay\",\"museedorsay\",\n",
    "                 \"notredame\",\"notredame\",\"notredame\",\"notredame\",\"notredame\",\n",
    "                 \"pantheon\",\"pantheon\",\"pantheon\",\"pantheon\",\"pantheon\",\n",
    "                 \"pompidou\",\"pompidou\",\"pompidou\",\"pompidou\",\"pompidou\",\n",
    "                 \"sacrecoeur\",\"sacrecoeur\",\"sacrecoeur\",\"sacrecoeur\",\"sacrecoeur\",\n",
    "                 \"triomphe\",\"triomphe\",\"triomphe\",\"triomphe\",\"triomphe\",\n",
    "                 \"defense\",\"defense\",\"defense\",\n",
    "                 \"eiffel\",\"eiffel\",\"eiffel\",\n",
    "                 \"notredame\",\"notredame\",\"notredame\",\n",
    "                 \"pantheon\",\"pantheon\",\"pantheon\",\n",
    "                 \"triomphe\",\"triomphe\",\"triomphe\"]"
   ]
  },
  {
   "cell_type": "code",
   "execution_count": 150,
   "metadata": {},
   "outputs": [
    {
     "name": "stdout",
     "output_type": "stream",
     "text": [
      "Easy: 1470 | Hard: 1978 | Junk: 1264\n"
     ]
    }
   ],
   "source": [
    "# finding easy, hard, junk images + names\n",
    "\n",
    "easy = []\n",
    "easy_names = []\n",
    "easy_full_names = []\n",
    "hard = []\n",
    "hard_names = []\n",
    "hard_full_names = []\n",
    "junk = []\n",
    "junk_names = []\n",
    "junk_full_names = []\n",
    "\n",
    "\n",
    "for idx, out in enumerate(data['gnd']):\n",
    "    easy_data = out['easy']\n",
    "    hard_data = out['hard']\n",
    "    junk_data = out['junk']\n",
    "    \n",
    "    for i in easy_data:\n",
    "        name = data['imlist'][i]\n",
    "        if name not in easy_full_names:\n",
    "            easy_full_names.append(name)\n",
    "            eimg_path = os.path.join(paris_path, name + \".jpg\")\n",
    "            eimg = cv2.imread(eimg_path)\n",
    "            eimg = cv2.cvtColor(eimg, cv2.COLOR_BGR2RGB)\n",
    "            easy.append(eimg)\n",
    "            easy_names.append(queries_names[idx])\n",
    "    \n",
    "    for i in hard_data:\n",
    "        name = data['imlist'][i]\n",
    "        if name not in hard_full_names:\n",
    "            hard_full_names.append(name)\n",
    "            himg_path = os.path.join(paris_path, name + \".jpg\")\n",
    "            himg = cv2.imread(himg_path)\n",
    "            himg = cv2.cvtColor(himg, cv2.COLOR_BGR2RGB)\n",
    "            hard.append(himg)\n",
    "            hard_names.append(queries_names[idx])\n",
    "        \n",
    "    for i in junk_data:\n",
    "        name = data['imlist'][i]\n",
    "        if name not in junk_full_names:\n",
    "            junk_full_names.append(name)\n",
    "            jimg_path = os.path.join(paris_path, name + \".jpg\")\n",
    "            jimg = cv2.imread(jimg_path)\n",
    "            jimg = cv2.cvtColor(jimg, cv2.COLOR_BGR2RGB)\n",
    "            junk.append(jimg)\n",
    "            junk_names.append(queries_names[idx])\n",
    "\n",
    "print(\"Easy: {} | Hard: {} | Junk: {}\".format(len(easy), len(hard), len(junk)))"
   ]
  },
  {
   "cell_type": "code",
   "execution_count": 173,
   "metadata": {},
   "outputs": [],
   "source": [
    "# saving to file\n",
    "\n",
    "file = \"{}/rparis6k/easy\".format(dir_to_save)\n",
    "for idx, (img, name) in enumerate(zip(easy, easy_names)):\n",
    "    img = cv2.cvtColor(img, cv2.COLOR_BGR2RGB)\n",
    "    filename = os.path.join(file, name+\"-\"+str(idx)+\".jpg\")\n",
    "    cv2.imwrite(filename, img)\n",
    "\n",
    "file = \"{}/rparis6k/hard\".format(dir_to_save)\n",
    "for idx, (img, name) in enumerate(zip(hard, hard_names)):\n",
    "    img = cv2.cvtColor(img, cv2.COLOR_BGR2RGB)\n",
    "    filename = os.path.join(file, name+\"-\"+str(idx)+\".jpg\")\n",
    "    cv2.imwrite(filename, img)\n",
    "\n",
    "file = \"{}/rparis6k/junk\".format(dir_to_save)\n",
    "for idx, (img, name) in enumerate(zip(junk, junk_names)):\n",
    "    img = cv2.cvtColor(img, cv2.COLOR_BGR2RGB)\n",
    "    filename = os.path.join(file, name+\"-\"+str(idx)+\".jpg\")\n",
    "    cv2.imwrite(filename, img)\n",
    "\n",
    "file = \"{}/rparis6k/query\".format(dir_to_save)\n",
    "for idx, (img, name) in enumerate(zip(cropped_queries, queries_names)):\n",
    "    img = cv2.cvtColor(img, cv2.COLOR_BGR2RGB)\n",
    "    filename = os.path.join(file, name+\"-\"+str(idx)+\".jpg\")\n",
    "    cv2.imwrite(filename, img)\n",
    "\n",
    "file = \"{}/rparis6k/full_query\".format(dir_to_save)\n",
    "for idx, (img, name) in enumerate(zip(queries, queries_names)):\n",
    "    img = cv2.cvtColor(img, cv2.COLOR_BGR2RGB)\n",
    "    filename = os.path.join(file, name+\"-\"+str(idx)+\".jpg\")\n",
    "    cv2.imwrite(filename, img)"
   ]
  }
 ],
 "metadata": {
  "kernelspec": {
   "display_name": "Python 3",
   "language": "python",
   "name": "python3"
  },
  "language_info": {
   "codemirror_mode": {
    "name": "ipython",
    "version": 3
   },
   "file_extension": ".py",
   "mimetype": "text/x-python",
   "name": "python",
   "nbconvert_exporter": "python",
   "pygments_lexer": "ipython3",
   "version": "3.8.5"
  }
 },
 "nbformat": 4,
 "nbformat_minor": 4
}
