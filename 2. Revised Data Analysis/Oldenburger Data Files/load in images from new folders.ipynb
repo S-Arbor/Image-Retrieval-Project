{
 "cells": [
  {
   "cell_type": "markdown",
   "metadata": {},
   "source": [
    "## Imports"
   ]
  },
  {
   "cell_type": "code",
   "execution_count": 1,
   "metadata": {},
   "outputs": [],
   "source": [
    "import numpy as np \n",
    "import cv2\n",
    "import os\n",
    "import matplotlib.pyplot as plt\n",
    "from PIL import Image\n",
    "from IPython.display import clear_output\n",
    "import time\n",
    "import pandas\n",
    "import glob"
   ]
  },
  {
   "cell_type": "markdown",
   "metadata": {},
   "source": [
    "## Load data function:"
   ]
  },
  {
   "cell_type": "code",
   "execution_count": 2,
   "metadata": {},
   "outputs": [],
   "source": [
    "# load in data from train and query folders\n",
    "def load_data(train_path, query_path):\n",
    "    train_image_paths = []\n",
    "    train_images = []\n",
    "    train_names = []\n",
    "\n",
    "    # save path to image and save class names as numbers (train)\n",
    "    for data_path in glob.glob(train_path + '/*'):\n",
    "        name = data_path.split('\\\\')[-1].split(\"-\")[0]\n",
    "        train_names.append(name) \n",
    "        train_image_paths.append(data_path)\n",
    "    \n",
    "    # open image from path and save to array\n",
    "    for img_path in train_image_paths:\n",
    "        img = cv2.imread(img_path)\n",
    "        img = cv2.cvtColor(img, cv2.COLOR_BGR2RGB)\n",
    "        train_images.append(img)\n",
    "\n",
    "    # save path to image and save class names as numbers (query)\n",
    "    query_image_paths = []\n",
    "    query_names = []\n",
    "    query_images = []\n",
    "    \n",
    "    for data_path in glob.glob(query_path + '/*'):\n",
    "        name = data_path.split('\\\\')[-1].split(\"-\")[0]\n",
    "        query_names.append(name) \n",
    "        query_image_paths.append(data_path)\n",
    "    \n",
    "    # open image from path and save to array\n",
    "    for img_path in query_image_paths:\n",
    "        img = cv2.imread(img_path)\n",
    "        img = cv2.cvtColor(img, cv2.COLOR_BGR2RGB)\n",
    "        query_images.append(img)\n",
    "\n",
    "    print(\"Train Images: {} | Query Images: {}\".format(len(train_images), len(query_images)))\n",
    "    return train_images, train_names, query_images, query_names"
   ]
  },
  {
   "cell_type": "code",
   "execution_count": 3,
   "metadata": {},
   "outputs": [],
   "source": [
    "def rgb_to_pixel(images, size=100):\n",
    "    pixels = []\n",
    "    for image in images:\n",
    "        gray = cv2.cvtColor(image, cv2.COLOR_RGB2GRAY)\n",
    "        gray = cv2.resize(gray, (size,size), interpolation=cv2.INTER_CUBIC)\n",
    "        flat = gray.reshape((size*size,))\n",
    "        pixels.append(flat)\n",
    "    return pixels"
   ]
  },
  {
   "cell_type": "markdown",
   "metadata": {},
   "source": [
    "## Loading in ROxfrod5k Images:"
   ]
  },
  {
   "cell_type": "code",
   "execution_count": 10,
   "metadata": {},
   "outputs": [
    {
     "name": "stdout",
     "output_type": "stream",
     "text": [
      "Train Images: 516 | Query Images: 70\n"
     ]
    }
   ],
   "source": [
    "option = 'easy'\n",
    "train_path = \"{path_to_folder}/roxford5k/{}\".format(option)\n",
    "query_path = \"{path_to_folder}/roxford5k/query\"\n",
    "\n",
    "ox_easy_images, ox_easy_names, ox_query_images, ox_query_names = load_data(train_path, query_path)"
   ]
  },
  {
   "cell_type": "code",
   "execution_count": 11,
   "metadata": {},
   "outputs": [
    {
     "name": "stdout",
     "output_type": "stream",
     "text": [
      "Train Images: 685 | Query Images: 70\n"
     ]
    }
   ],
   "source": [
    "option = 'hard'\n",
    "train_path = \"{path_to_folder}/roxford5k/{}\".format(option)\n",
    "query_path = \"{path_to_folder}/roxford5k/query\"\n",
    "\n",
    "ox_hard_images, ox_hard_names, ox_query_images, ox_query_names = load_data(train_path, query_path)"
   ]
  },
  {
   "cell_type": "code",
   "execution_count": 12,
   "metadata": {},
   "outputs": [],
   "source": [
    "ox_medium_images = ox_easy_images + ox_hard_images\n",
    "ox_medium_names = ox_easy_names + ox_hard_names"
   ]
  },
  {
   "cell_type": "markdown",
   "metadata": {},
   "source": [
    "## Loading in RParis6k Images:"
   ]
  },
  {
   "cell_type": "code",
   "execution_count": 14,
   "metadata": {},
   "outputs": [
    {
     "name": "stdout",
     "output_type": "stream",
     "text": [
      "Train Images: 1470 | Query Images: 70\n"
     ]
    }
   ],
   "source": [
    "option = 'easy'\n",
    "train_path = \"{path_to_folder}/rparis6k/{}\".format(option)\n",
    "query_path = \"{path_to_folder}/rparis6k/query\"\n",
    "\n",
    "par_easy_images, par_easy_names, par_query_images, par_query_names = load_data(train_path, query_path)"
   ]
  },
  {
   "cell_type": "code",
   "execution_count": 15,
   "metadata": {},
   "outputs": [
    {
     "name": "stdout",
     "output_type": "stream",
     "text": [
      "Train Images: 1978 | Query Images: 70\n"
     ]
    }
   ],
   "source": [
    "option = 'hard'\n",
    "train_path = \"{path_to_folder}/rparis6k/{}\".format(option)\n",
    "query_path = \"{path_to_folder}/rparis6k/query\"\n",
    "\n",
    "par_hard_images, par_hard_names, par_query_images, par_query_names = load_data(train_path, query_path)"
   ]
  },
  {
   "cell_type": "code",
   "execution_count": 16,
   "metadata": {},
   "outputs": [],
   "source": [
    "par_medium_images = par_easy_images + par_hard_images\n",
    "par_medium_names = par_easy_names + par_hard_names"
   ]
  }
 ],
 "metadata": {
  "kernelspec": {
   "display_name": "Python 3",
   "language": "python",
   "name": "python3"
  },
  "language_info": {
   "codemirror_mode": {
    "name": "ipython",
    "version": 3
   },
   "file_extension": ".py",
   "mimetype": "text/x-python",
   "name": "python",
   "nbconvert_exporter": "python",
   "pygments_lexer": "ipython3",
   "version": "3.8.5"
  }
 },
 "nbformat": 4,
 "nbformat_minor": 4
}
