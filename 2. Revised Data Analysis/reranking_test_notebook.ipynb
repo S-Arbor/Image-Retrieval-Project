{
 "cells": [
  {
   "cell_type": "markdown",
   "metadata": {},
   "source": [
    "# Reranking Test Notebook\n",
    "\n",
    "__Goals__\n",
    "- Implement nqe\n",
    "- Implement alpha query expansion\n",
    "- Implement diffusion\n",
    "\n",
    "____\n",
    "## Imports"
   ]
  },
  {
   "cell_type": "code",
   "execution_count": 3,
   "metadata": {},
   "outputs": [],
   "source": [
    "import numpy as np\n",
    "import pandas as pd\n",
    "import sklearn.metrics\n",
    "import unittest\n",
    "import sklearn.preprocessing\n",
    "import os\n",
    "import cv2\n",
    "import matplotlib.pyplot as plt\n",
    "import seaborn as sns\n",
    "import PIL\n",
    "import time\n",
    "import glob\n",
    "import copy"
   ]
  },
  {
   "cell_type": "markdown",
   "metadata": {},
   "source": [
    "_____\n",
    "## Metrics Functions"
   ]
  },
  {
   "cell_type": "code",
   "execution_count": 2,
   "metadata": {},
   "outputs": [],
   "source": [
    "def basic_query(query_image_features, query_target_features, metric_function = sklearn.metrics.pairwise.euclidean_distances):\n",
    "    \"\"\"Return the indexes of the query_target images, arranged in ascending euclidean distance as compared to the query image\"\"\"\n",
    "    \n",
    "    query = query_image_features.reshape((1, -1))\n",
    "    D = metric_function(query_target_features, query).squeeze()\n",
    "    index = np.argsort(D)\n",
    "\n",
    "    return(index)"
   ]
  },
  {
   "cell_type": "code",
   "execution_count": 3,
   "metadata": {},
   "outputs": [],
   "source": [
    "def query_results_to_truth_values(query_image_building, query_results, image_names):\n",
    "    \"\"\"Convert the index results of a query to an array of booleans corresponding to whether the correct image was retrieved.\"\"\"\n",
    "    return([query_image_building == image_names[index] for index in query_results])"
   ]
  },
  {
   "cell_type": "code",
   "execution_count": 4,
   "metadata": {},
   "outputs": [],
   "source": [
    "def precision_at_k(truth_values, k, warnings=True):\n",
    "    \"\"\"Return proportions of true values in the first k elements.\n",
    "    If warnings=True and all true values occur before the kth element, raise an error\"\"\"\n",
    "    p_at_k = truth_values[:k].count(True) / k\n",
    "\n",
    "    if warnings:\n",
    "        if k < len(truth_values):\n",
    "            if truth_values[k:].count(True) == 0:\n",
    "                raise ValueError(\"All true values are before the first k values\")\n",
    "    \n",
    "    return(p_at_k)\n",
    "\n",
    "\n",
    "def average_precision(truth_values):\n",
    "    \"\"\"Given a boolean input of whether returned query values are correct or false, return the average precision.\n",
    "    e.g. average_precision([True, True, False, True]) ~ 0.85\n",
    "    \"\"\"\n",
    "    precisions = []\n",
    "    for (index, val) in enumerate(truth_values):\n",
    "        if val: # == True\n",
    "            precisions.append(truth_values[:index + 1].count(True) / (index + 1))      \n",
    "\n",
    "    return(np.mean(precisions))"
   ]
  },
  {
   "cell_type": "code",
   "execution_count": 5,
   "metadata": {},
   "outputs": [],
   "source": [
    "def compute_metrics(train_features, test_features, train_names, test_names, query_function, metric_function, average_mean_precision = True, k_values = [5,10,20]):\n",
    "    \"\"\"Run each test feature against the train features,\"\"\"\n",
    "    average_precisions = []\n",
    "    precisions_at_k = {}\n",
    "    for k in k_values:\n",
    "        precisions_at_k[k] = []\n",
    "    \n",
    "    for (test_feature, test_feature_name) in zip(test_features.iterrows(), test_names):\n",
    "        query_image_features = test_feature[1].values # extract the values for the iterrows row object\n",
    "        query_results = query_function(query_image_features, train_features, metric_function)\n",
    "        truth_values = query_results_to_truth_values(test_feature_name, query_results, train_names)\n",
    "        \n",
    "        average_precisions.append(average_precision(truth_values))\n",
    "        for k in precisions_at_k:\n",
    "            p_at_k = precision_at_k(truth_values, k, warnings=False)\n",
    "            precisions_at_k[k].append(p_at_k)\n",
    "    \n",
    "    for (k_value, list_of_precisions) in precisions_at_k.items():\n",
    "        precisions_at_k[k_value] = np.mean(list_of_precisions)\n",
    "    \n",
    "    return(np.mean(average_precisions), precisions_at_k)"
   ]
  },
  {
   "cell_type": "markdown",
   "metadata": {},
   "source": [
    "____\n",
    "## Query Expansion"
   ]
  },
  {
   "cell_type": "code",
   "execution_count": 6,
   "metadata": {},
   "outputs": [],
   "source": [
    "def new_expanded_query(original_query_results, query_target_features, type = \"n\", n = 5):\n",
    "    \"\"\"Return an expanded query to based on the top n results of the initial query results.\"\"\"\n",
    "    \n",
    "    top_n_features = query_target_features.loc[:n]\n",
    "\n",
    "    if type == \"n\":\n",
    "        return(pd.DataFrame([top_n_features.apply(np.mean)]).values)\n",
    "\n",
    "    else:\n",
    "        if type == \"alpha\":\n",
    "            raise ValueError(\"Alpha query expansion not implemented\")\n",
    "        elif type == \"linear1\":\n",
    "            weights = [(n-i)/n for i in range(n)]\n",
    "        elif type == \"linear2\":\n",
    "            weights = [(n-i)/n + 1 for i in range(n)]\n",
    "        elif type == \"fractional\":\n",
    "            weights = [1/i for i in range(1, n+1)]\n",
    "        \n",
    "        return(pd.DataFrame([top_n_features.apply(np.average, weights = weights)]))\n",
    "\n",
    "\n",
    "def qe_query(query, query_target, type = \"n\", n=5, metric_function=sklearn.metrics.pairwise.euclidean_distances):\n",
    "    \"\"\"Perform a query, then run query expansion and return the new results.\"\"\"\n",
    "    original_results = basic_query(query, query_target, metric_function)\n",
    "    new_query = new_expanded_query(original_results, query_target, type, n)\n",
    "    new_results = basic_query(new_query, query_target, metric_function)\n",
    "    return(new_results)"
   ]
  },
  {
   "cell_type": "markdown",
   "metadata": {},
   "source": [
    "____\n",
    "## Query Expansion Take 2"
   ]
  },
  {
   "cell_type": "code",
   "execution_count": 11,
   "metadata": {},
   "outputs": [],
   "source": [
    "# def basic_query(query_image_features, query_target_features, metric_function = sklearn.metrics.pairwise.euclidean_distances):\n",
    "#     \"\"\"Return the indexes of the query_target images, arranged in ascending euclidean distance as compared to the query image\"\"\"\n",
    "    \n",
    "#     query = query_image_features.reshape((1, -1))\n",
    "#     D = metric_function(query_target_features, query).squeeze()\n",
    "#     index = np.argsort(D)\n",
    "\n",
    "#     return(index)\n",
    "\n",
    "def new_query(features, weights):\n",
    "    \"\"\"Return a new dataframe row containing a weighted combination of a previous set of features.\"\"\"\n",
    "    return(pd.DataFrame([features.apply(np.average, weights = weights)]))\n",
    "\n",
    "\n",
    "def qe_query(query, query_target, metric_function=sklearn.metrics.pairwise.euclidean_distances, type=\"qe baseline\", n=5, alpha=1):\n",
    "    \"\"\"Run a query with query expansion, supported methods:\n",
    "       - \"qe baseline\" : described in Total Recall (2007), new result is based on alpha proportion of requerying (e.g. alpha = 1,\n",
    "                         then results after the top 5 will be completely determined by the top five\"\"\"\n",
    "    \n",
    "    original_results = basic_query(query, query_target, metric_function)\n",
    "\n",
    "    if type == \"qe baseline\":\n",
    "        # find top n results, combine top n into a new query, append results of new query to top n\n",
    "        top_n = original_results.loc[:n]\n",
    "        second_query = new_query(top_n, weights = np.ones(n))\n",
    "        \n",
    "        if alpha != 1:\n",
    "            second_query = new_query(pd.DataFrame([query, second_query]), weights = [1 - alpha, alpha])\n",
    "\n",
    "        new_results = basic_query(second_query, query_target, metric_function)\n",
    "        pruned_new_results = new_results[np.logical_not(np.isin(new_results, top_n))]\n",
    "        results = np.concatenate([original_results, pruned_new_results])\n",
    "\n",
    "    print(\"Something went wrong\")\n",
    "    "
   ]
  },
  {
   "cell_type": "code",
   "execution_count": 4,
   "metadata": {},
   "outputs": [],
   "source": [
    "query = np.array([1,1,1,1,1])\n",
    "new_query = np.array([0,0,0,0,0])"
   ]
  },
  {
   "cell_type": "code",
   "execution_count": 9,
   "metadata": {},
   "outputs": [
    {
     "data": {
      "text/plain": [
       "0    0.5\n",
       "1    0.5\n",
       "2    0.5\n",
       "3    0.5\n",
       "4    0.5\n",
       "dtype: float64"
      ]
     },
     "execution_count": 9,
     "metadata": {},
     "output_type": "execute_result"
    }
   ],
   "source": [
    "pd.DataFrame([query, new_query]).apply(np.average)"
   ]
  },
  {
   "cell_type": "code",
   "execution_count": 18,
   "metadata": {},
   "outputs": [
    {
     "data": {
      "text/plain": [
       "array([1, 2, 3, 1, 2, 3])"
      ]
     },
     "execution_count": 18,
     "metadata": {},
     "output_type": "execute_result"
    }
   ],
   "source": [
    "np.concatenate([a, b])"
   ]
  },
  {
   "cell_type": "markdown",
   "metadata": {},
   "source": [
    "_____\n",
    "## Test Space"
   ]
  },
  {
   "cell_type": "code",
   "execution_count": 3,
   "metadata": {},
   "outputs": [
    {
     "data": {
      "text/html": [
       "<div>\n",
       "<style scoped>\n",
       "    .dataframe tbody tr th:only-of-type {\n",
       "        vertical-align: middle;\n",
       "    }\n",
       "\n",
       "    .dataframe tbody tr th {\n",
       "        vertical-align: top;\n",
       "    }\n",
       "\n",
       "    .dataframe thead th {\n",
       "        text-align: right;\n",
       "    }\n",
       "</style>\n",
       "<table border=\"1\" class=\"dataframe\">\n",
       "  <thead>\n",
       "    <tr style=\"text-align: right;\">\n",
       "      <th></th>\n",
       "      <th>1</th>\n",
       "      <th>2</th>\n",
       "      <th>3</th>\n",
       "    </tr>\n",
       "  </thead>\n",
       "  <tbody>\n",
       "    <tr>\n",
       "      <th>2</th>\n",
       "      <td>3</td>\n",
       "      <td>3</td>\n",
       "      <td>3</td>\n",
       "    </tr>\n",
       "    <tr>\n",
       "      <th>0</th>\n",
       "      <td>1</td>\n",
       "      <td>1</td>\n",
       "      <td>1</td>\n",
       "    </tr>\n",
       "  </tbody>\n",
       "</table>\n",
       "</div>"
      ],
      "text/plain": [
       "   1  2  3\n",
       "2  3  3  3\n",
       "0  1  1  1"
      ]
     },
     "execution_count": 3,
     "metadata": {},
     "output_type": "execute_result"
    }
   ],
   "source": [
    "test_features = pd.DataFrame({1 : [1,2,3,4],\n",
    "                              2 : [1,2,3,4],\n",
    "                              3 : [1,2,3,4]})\n",
    "results = [2,0,1,3]\n",
    "\n",
    "n = 2\n",
    "\n",
    "a = test_features.loc[results[:2]]\n",
    "a"
   ]
  },
  {
   "cell_type": "code",
   "execution_count": 1,
   "metadata": {},
   "outputs": [
    {
     "name": "stdout",
     "output_type": "stream",
     "text": [
      "1\n",
      "2\n",
      "3\n"
     ]
    }
   ],
   "source": [
    "def func(a, b, c):\n",
    "    print(a)\n",
    "    print(b)\n",
    "    print(c)\n",
    "\n",
    "func(\"1\", \"2\", \"3\")"
   ]
  },
  {
   "cell_type": "code",
   "execution_count": 9,
   "metadata": {},
   "outputs": [
    {
     "name": "stdout",
     "output_type": "stream",
     "text": [
      "1\n",
      "2\n",
      "3\n"
     ]
    }
   ],
   "source": [
    "def do_func(fn, **kwargs):\n",
    "    fn(a= 1, b = 2, **kwargs)\n",
    "\n",
    "do_func(func, c = 3)"
   ]
  },
  {
   "cell_type": "code",
   "execution_count": 4,
   "metadata": {},
   "outputs": [
    {
     "data": {
      "text/plain": [
       "array([[2., 2., 2.]])"
      ]
     },
     "execution_count": 4,
     "metadata": {},
     "output_type": "execute_result"
    }
   ],
   "source": [
    "b = pd.DataFrame([a.apply(np.mean)]).values\n",
    "b"
   ]
  },
  {
   "cell_type": "code",
   "execution_count": 14,
   "metadata": {},
   "outputs": [
    {
     "data": {
      "text/plain": [
       "array([[2.33333333, 2.33333333, 2.33333333]])"
      ]
     },
     "execution_count": 14,
     "metadata": {},
     "output_type": "execute_result"
    }
   ],
   "source": [
    "b2 = pd.DataFrame([a.apply(np.average, weights = [2,1])]).values\n",
    "b2"
   ]
  },
  {
   "cell_type": "code",
   "execution_count": 77,
   "metadata": {},
   "outputs": [
    {
     "data": {
      "text/plain": [
       "numpy.ndarray"
      ]
     },
     "execution_count": 77,
     "metadata": {},
     "output_type": "execute_result"
    }
   ],
   "source": [
    "c = np.array(a.apply(np.mean))\n",
    "type(c)"
   ]
  },
  {
   "cell_type": "code",
   "execution_count": 78,
   "metadata": {},
   "outputs": [
    {
     "data": {
      "text/plain": [
       "numpy.ndarray"
      ]
     },
     "execution_count": 78,
     "metadata": {},
     "output_type": "execute_result"
    }
   ],
   "source": [
    "type(b.values)"
   ]
  },
  {
   "cell_type": "code",
   "execution_count": 81,
   "metadata": {},
   "outputs": [
    {
     "data": {
      "text/plain": [
       "(1, 3)"
      ]
     },
     "execution_count": 81,
     "metadata": {},
     "output_type": "execute_result"
    }
   ],
   "source": [
    "np.shape(b.values)"
   ]
  },
  {
   "cell_type": "markdown",
   "metadata": {},
   "source": [
    "___\n",
    "## Test AQE"
   ]
  },
  {
   "cell_type": "code",
   "execution_count": 17,
   "metadata": {},
   "outputs": [
    {
     "data": {
      "text/html": [
       "<div>\n",
       "<style scoped>\n",
       "    .dataframe tbody tr th:only-of-type {\n",
       "        vertical-align: middle;\n",
       "    }\n",
       "\n",
       "    .dataframe tbody tr th {\n",
       "        vertical-align: top;\n",
       "    }\n",
       "\n",
       "    .dataframe thead th {\n",
       "        text-align: right;\n",
       "    }\n",
       "</style>\n",
       "<table border=\"1\" class=\"dataframe\">\n",
       "  <thead>\n",
       "    <tr style=\"text-align: right;\">\n",
       "      <th></th>\n",
       "      <th>0</th>\n",
       "      <th>1</th>\n",
       "      <th>2</th>\n",
       "      <th>3</th>\n",
       "      <th>4</th>\n",
       "      <th>5</th>\n",
       "      <th>6</th>\n",
       "      <th>7</th>\n",
       "      <th>8</th>\n",
       "      <th>9</th>\n",
       "      <th>...</th>\n",
       "      <th>990</th>\n",
       "      <th>991</th>\n",
       "      <th>992</th>\n",
       "      <th>993</th>\n",
       "      <th>994</th>\n",
       "      <th>995</th>\n",
       "      <th>996</th>\n",
       "      <th>997</th>\n",
       "      <th>998</th>\n",
       "      <th>999</th>\n",
       "    </tr>\n",
       "  </thead>\n",
       "  <tbody>\n",
       "    <tr>\n",
       "      <th>0</th>\n",
       "      <td>0.0</td>\n",
       "      <td>0.000000</td>\n",
       "      <td>0.008328</td>\n",
       "      <td>0.000000</td>\n",
       "      <td>0.213189</td>\n",
       "      <td>0.041077</td>\n",
       "      <td>0.000000</td>\n",
       "      <td>0.011529</td>\n",
       "      <td>0.016828</td>\n",
       "      <td>0.016603</td>\n",
       "      <td>...</td>\n",
       "      <td>0.000000</td>\n",
       "      <td>0.0</td>\n",
       "      <td>0.000000</td>\n",
       "      <td>0.0</td>\n",
       "      <td>0.0</td>\n",
       "      <td>0.0</td>\n",
       "      <td>0.016982</td>\n",
       "      <td>0.0</td>\n",
       "      <td>0.000000</td>\n",
       "      <td>0.011505</td>\n",
       "    </tr>\n",
       "    <tr>\n",
       "      <th>1</th>\n",
       "      <td>0.0</td>\n",
       "      <td>0.026717</td>\n",
       "      <td>0.024817</td>\n",
       "      <td>0.038176</td>\n",
       "      <td>0.018326</td>\n",
       "      <td>0.085688</td>\n",
       "      <td>0.042927</td>\n",
       "      <td>0.000000</td>\n",
       "      <td>0.000000</td>\n",
       "      <td>0.012369</td>\n",
       "      <td>...</td>\n",
       "      <td>0.000000</td>\n",
       "      <td>0.0</td>\n",
       "      <td>0.000000</td>\n",
       "      <td>0.0</td>\n",
       "      <td>0.0</td>\n",
       "      <td>0.0</td>\n",
       "      <td>0.025303</td>\n",
       "      <td>0.0</td>\n",
       "      <td>0.019041</td>\n",
       "      <td>0.008571</td>\n",
       "    </tr>\n",
       "    <tr>\n",
       "      <th>2</th>\n",
       "      <td>0.0</td>\n",
       "      <td>0.002802</td>\n",
       "      <td>0.036436</td>\n",
       "      <td>0.016014</td>\n",
       "      <td>0.046126</td>\n",
       "      <td>0.005135</td>\n",
       "      <td>0.033442</td>\n",
       "      <td>0.010809</td>\n",
       "      <td>0.010518</td>\n",
       "      <td>0.005189</td>\n",
       "      <td>...</td>\n",
       "      <td>0.007394</td>\n",
       "      <td>0.0</td>\n",
       "      <td>0.000000</td>\n",
       "      <td>0.0</td>\n",
       "      <td>0.0</td>\n",
       "      <td>0.0</td>\n",
       "      <td>0.018575</td>\n",
       "      <td>0.0</td>\n",
       "      <td>0.007988</td>\n",
       "      <td>0.003596</td>\n",
       "    </tr>\n",
       "    <tr>\n",
       "      <th>3</th>\n",
       "      <td>0.0</td>\n",
       "      <td>0.017057</td>\n",
       "      <td>0.015844</td>\n",
       "      <td>0.032496</td>\n",
       "      <td>0.054600</td>\n",
       "      <td>0.039075</td>\n",
       "      <td>0.023491</td>\n",
       "      <td>0.021934</td>\n",
       "      <td>0.000000</td>\n",
       "      <td>0.000000</td>\n",
       "      <td>...</td>\n",
       "      <td>0.022507</td>\n",
       "      <td>0.0</td>\n",
       "      <td>0.000000</td>\n",
       "      <td>0.0</td>\n",
       "      <td>0.0</td>\n",
       "      <td>0.0</td>\n",
       "      <td>0.016154</td>\n",
       "      <td>0.0</td>\n",
       "      <td>0.000000</td>\n",
       "      <td>0.021888</td>\n",
       "    </tr>\n",
       "    <tr>\n",
       "      <th>4</th>\n",
       "      <td>0.0</td>\n",
       "      <td>0.015522</td>\n",
       "      <td>0.050464</td>\n",
       "      <td>0.025876</td>\n",
       "      <td>0.088728</td>\n",
       "      <td>0.046228</td>\n",
       "      <td>0.103324</td>\n",
       "      <td>0.009980</td>\n",
       "      <td>0.000000</td>\n",
       "      <td>0.000000</td>\n",
       "      <td>...</td>\n",
       "      <td>0.000000</td>\n",
       "      <td>0.0</td>\n",
       "      <td>0.011005</td>\n",
       "      <td>0.0</td>\n",
       "      <td>0.0</td>\n",
       "      <td>0.0</td>\n",
       "      <td>0.022051</td>\n",
       "      <td>0.0</td>\n",
       "      <td>0.000000</td>\n",
       "      <td>0.000000</td>\n",
       "    </tr>\n",
       "  </tbody>\n",
       "</table>\n",
       "<p>5 rows × 1000 columns</p>\n",
       "</div>"
      ],
      "text/plain": [
       "     0         1         2         3         4         5         6         7  \\\n",
       "0  0.0  0.000000  0.008328  0.000000  0.213189  0.041077  0.000000  0.011529   \n",
       "1  0.0  0.026717  0.024817  0.038176  0.018326  0.085688  0.042927  0.000000   \n",
       "2  0.0  0.002802  0.036436  0.016014  0.046126  0.005135  0.033442  0.010809   \n",
       "3  0.0  0.017057  0.015844  0.032496  0.054600  0.039075  0.023491  0.021934   \n",
       "4  0.0  0.015522  0.050464  0.025876  0.088728  0.046228  0.103324  0.009980   \n",
       "\n",
       "          8         9  ...       990  991       992  993  994  995       996  \\\n",
       "0  0.016828  0.016603  ...  0.000000  0.0  0.000000  0.0  0.0  0.0  0.016982   \n",
       "1  0.000000  0.012369  ...  0.000000  0.0  0.000000  0.0  0.0  0.0  0.025303   \n",
       "2  0.010518  0.005189  ...  0.007394  0.0  0.000000  0.0  0.0  0.0  0.018575   \n",
       "3  0.000000  0.000000  ...  0.022507  0.0  0.000000  0.0  0.0  0.0  0.016154   \n",
       "4  0.000000  0.000000  ...  0.000000  0.0  0.011005  0.0  0.0  0.0  0.022051   \n",
       "\n",
       "   997       998       999  \n",
       "0  0.0  0.000000  0.011505  \n",
       "1  0.0  0.019041  0.008571  \n",
       "2  0.0  0.007988  0.003596  \n",
       "3  0.0  0.000000  0.021888  \n",
       "4  0.0  0.000000  0.000000  \n",
       "\n",
       "[5 rows x 1000 columns]"
      ]
     },
     "execution_count": 17,
     "metadata": {},
     "output_type": "execute_result"
    }
   ],
   "source": [
    "basedir = \"/home/sean/Code/Pawsey/3. Data/New_SIFT\"\n",
    "\n",
    "sift_raw = {\"roxford5k\" : {}, \"rparis6k\" : {}}\n",
    "\n",
    "os.chdir(basedir + \"/SIFT\")\n",
    "for file_name in os.listdir():\n",
    "    split_name = file_name.split(\"-\")\n",
    "    dataset, num_features, difficulty, _ = split_name\n",
    "\n",
    "    num_features = int(num_features)\n",
    "    if num_features not in sift_raw[dataset].keys():\n",
    "        sift_raw[dataset][num_features] = {}\n",
    "    \n",
    "    sift_raw[dataset][num_features][difficulty] = pd.read_csv(file_name)\n",
    "\n",
    "sift_raw[\"roxford5k\"][1000][\"easy\"].head()"
   ]
  },
  {
   "cell_type": "code",
   "execution_count": 18,
   "metadata": {},
   "outputs": [
    {
     "data": {
      "text/plain": [
       "array(['invalides', 'moulinrouge', 'louvre', ..., 'eiffel', 'triomphe',\n",
       "       'eiffel'], dtype='<U11')"
      ]
     },
     "execution_count": 18,
     "metadata": {},
     "output_type": "execute_result"
    }
   ],
   "source": [
    "names = {\"roxford5k\" : {}, \"rparis6k\" : {}}\n",
    "\n",
    "os.chdir(basedir + \"/names\")\n",
    "for data_file in os.listdir():\n",
    "    split_name = data_file[:-4].split(\"-\")\n",
    "    dataset, _, difficulty, _ = split_name\n",
    "    names[dataset][difficulty] = np.load(data_file)\n",
    "\n",
    "names[\"rparis6k\"][\"easy\"]"
   ]
  },
  {
   "cell_type": "code",
   "execution_count": 42,
   "metadata": {},
   "outputs": [],
   "source": []
  }
 ],
 "metadata": {
  "interpreter": {
   "hash": "1e0edef247045f2f5f35ac9d6435770b0c68a1ddd7eb34b4959830e587ac51e2"
  },
  "kernelspec": {
   "display_name": "Python 3.9.7 64-bit ('base': conda)",
   "language": "python",
   "name": "python3"
  },
  "language_info": {
   "codemirror_mode": {
    "name": "ipython",
    "version": 3
   },
   "file_extension": ".py",
   "mimetype": "text/x-python",
   "name": "python",
   "nbconvert_exporter": "python",
   "pygments_lexer": "ipython3",
   "version": "3.9.7"
  },
  "orig_nbformat": 4
 },
 "nbformat": 4,
 "nbformat_minor": 2
}
